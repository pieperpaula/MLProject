{
 "cells": [
  {
   "cell_type": "markdown",
   "metadata": {},
   "source": [
    "#### REGULARIZATION"
   ]
  },
  {
   "cell_type": "markdown",
   "metadata": {},
   "source": [
    "We want to create two prediction models both for solar energy output and wind energy output. In order to predict these outputs we want to build a model that selects the best possible predictors maximizing the feature significance, avoiding colinearity, ensuring sparisty, considering the best feature transformations... To do so we will apply different models like Lasso, and Ridge and then we can apply Holistic Regression to see how the model is improved by it. We will run all of these models by all predictors of solar and energy output. "
   ]
  },
  {
   "cell_type": "code",
   "execution_count": 111,
   "metadata": {},
   "outputs": [],
   "source": [
    "using CSV, Tables, LinearAlgebra, Random, Gurobi, JuMP, Statistics, DataFrames\n",
    "#read train and validation data and split it into X and y\n",
    "X_train_solar=Matrix(DataFrame(CSV.File(\"X_train_solar.csv\")))\n",
    "y_train_solar=Matrix(DataFrame(CSV.File(\"y_train_solar.csv\")))\n",
    "X_train_wind=Matrix(DataFrame(CSV.File(\"X_train_wind.csv\")))\n",
    "y_train_wind=Matrix(DataFrame(CSV.File(\"y_train_wind.csv\")))\n",
    "\n",
    "X_valid_solar=Matrix(DataFrame(CSV.File(\"X_valid_solar.csv\")))\n",
    "y_valid_solar=Matrix(DataFrame(CSV.File(\"y_valid_solar.csv\")))\n",
    "X_valid_wind=Matrix(DataFrame(CSV.File(\"X_valid_wind.csv\")))\n",
    "y_valid_wind=Matrix(DataFrame(CSV.File(\"y_valid_wind.csv\")));"
   ]
  },
  {
   "cell_type": "markdown",
   "metadata": {},
   "source": [
    "### Functions"
   ]
  },
  {
   "cell_type": "code",
   "execution_count": 112,
   "metadata": {},
   "outputs": [
    {
     "data": {
      "text/plain": [
       "lasso (generic function with 2 methods)"
      ]
     },
     "execution_count": 112,
     "metadata": {},
     "output_type": "execute_result"
    }
   ],
   "source": [
    "function lasso(X,y,lambda=0.25)\n",
    "    \n",
    "    #Build model\n",
    "    model = Model(Gurobi.Optimizer)#we have defined the model, pass Gurobi optimizer into the model\n",
    "    set_optimizer_attribute(model,\"OutputFlag\",0)\n",
    "    \n",
    "    #Insert variables\n",
    "    n, p = size(X)\n",
    "    \n",
    "    @variable(model, beta[j=1:p])\n",
    "    @variable(model, beta_abs[j=1:p])\n",
    "    \n",
    "    \n",
    "    #Insert constraints\n",
    "\n",
    "    @constraint(model, beta_abs .>= beta) #put the dot is like doing the loop over all j\n",
    "    @constraint(model, beta_abs .>= -beta)\n",
    "    \n",
    "    \n",
    "    #sum((y-X*beta).^2)) = sum((y[i] - sum(X[i,j]*beta[j]) for j=1:p)^2 for i=1:n)\n",
    "    \n",
    "    #Insert objective\n",
    "    @objective(model, Min, sum((y-X*beta).^2) + lambda*sum(beta_abs))\n",
    "    \n",
    "    \n",
    "    # Optimize\n",
    "    optimize!(model)\n",
    "    \n",
    "    # Return estimated betas\n",
    "    return (value.(beta))\n",
    "    \n",
    "end"
   ]
  },
  {
   "cell_type": "code",
   "execution_count": 113,
   "metadata": {},
   "outputs": [
    {
     "data": {
      "text/plain": [
       "mse (generic function with 1 method)"
      ]
     },
     "execution_count": 113,
     "metadata": {},
     "output_type": "execute_result"
    }
   ],
   "source": [
    "function mse(X,y, beta)\n",
    "    return sum((y-X*beta).^2)/length(y)\n",
    "end"
   ]
  },
  {
   "cell_type": "code",
   "execution_count": 114,
   "metadata": {},
   "outputs": [
    {
     "data": {
      "text/plain": [
       "correlation (generic function with 1 method)"
      ]
     },
     "execution_count": 114,
     "metadata": {},
     "output_type": "execute_result"
    }
   ],
   "source": [
    "function correlation(X,p)\n",
    "    correlation_matrix = Statistics.cor(X) #compute corr matrix\n",
    "    n,m = size(correlation_matrix) #set sizes\n",
    "    correlated_pairs=[] #empty list to store correlated pairs\n",
    "    for i=1:n #for all features\n",
    "        for j=i+1:m \n",
    "            if abs(correlation_matrix[i,j])>p #if the abs value of the corr is higher than p\n",
    "                push!(correlated_pairs, (i,j)) #append pair to list of correlated pairs\n",
    "            end\n",
    "        end\n",
    "    end\n",
    "    return correlated_pairs\n",
    "end"
   ]
  },
  {
   "cell_type": "code",
   "execution_count": 115,
   "metadata": {},
   "outputs": [
    {
     "data": {
      "text/plain": [
       "transformation (generic function with 1 method)"
      ]
     },
     "execution_count": 115,
     "metadata": {},
     "output_type": "execute_result"
    }
   ],
   "source": [
    "#Build transformation function\n",
    "function transformation(X)\n",
    "    X_old=DataFrame(X, :auto) #define X as a df\n",
    "    X_new=DataFrame() #new empty df \n",
    "    n,p=size(X_old)\n",
    "    e=1\n",
    "    for i=1:p #for each feature in X add 4 transformations\n",
    "        X_new[!, \"X$i\"]=X_old[:,i] #transformation 1: no transformation\n",
    "        X_new[!, \"Sqrt$i\"]=X_old[:,i].^2 #transformation 2: square root\n",
    "        X_new[!, \"Log$i\"]=log.(abs.(X_old[:,i])) #transformation 3: log\n",
    "        X_new[!, \"Exp$i\"]=exp.(X_old[:,i]) #transformation 4: exp\n",
    "        X_new[!, \"Abs_Sqrt$i\"]=sqrt.(abs.(X_old[:,i])) #transformation 3: absolute squared root\n",
    "    end\n",
    "    return(X_new) #we return a new df with all transformations, it will have size nxp*4\n",
    "end"
   ]
  },
  {
   "cell_type": "code",
   "execution_count": 116,
   "metadata": {},
   "outputs": [
    {
     "data": {
      "text/plain": [
       "transformation (generic function with 1 method)"
      ]
     },
     "execution_count": 116,
     "metadata": {},
     "output_type": "execute_result"
    }
   ],
   "source": [
    "#Build transformation function\n",
    "function transformation(X)\n",
    "    X_old=DataFrame(X, :auto) #define X as a df\n",
    "    X_new=DataFrame() #new empty df \n",
    "    n,p=size(X_old)\n",
    "    e=1\n",
    "    for i=1:p #for each feature in X add 4 transformations\n",
    "        X_new[!, \"X$i\"]=X_old[:,i] #transformation 1\n",
    "        X_new[!, \"Sqrt$i\"]=X_old[:,i].^2 #transformation 2\n",
    "        X_new[!, \"Abs_Sqrt$i\"]=sqrt.(abs.(X_old[:,i])) #transformation 3\n",
    "        X_new[!, \"Log$i\"]=log.(abs.(X_old[:,i]).+e) #transformation 4\n",
    "    end\n",
    "    return(X_new) #we return a new df with all transformations, it will have size nxp*4\n",
    "end"
   ]
  },
  {
   "cell_type": "code",
   "execution_count": 163,
   "metadata": {},
   "outputs": [
    {
     "data": {
      "text/plain": [
       "holistic_regression (generic function with 5 methods)"
      ]
     },
     "execution_count": 163,
     "metadata": {},
     "output_type": "execute_result"
    }
   ],
   "source": [
    "function holistic_regression(X,y,lambda=0.25, per=0.6, M=50, k=10) #add parameter per\n",
    "    \n",
    "    #Call functions\n",
    "    X_new=Matrix(transformation(X)) #call function with all transformations of X\n",
    "    HC = correlation(X_new, per) #call correlation function to compute hc_pairs\n",
    "    \n",
    "    #Set sizes\n",
    "    n,p_new=size(X_new)\n",
    "    \n",
    "    #Build model\n",
    "    model = Model(Gurobi.Optimizer)\n",
    "    #model = Model(Gurobi.Optimizer, NonConvex = 2)#we have defined the model, pass Gurobi optimizer into the model\n",
    "    #model = Model(with_optimizer(Gurobi.Optimizer, NonConvex = 2))\n",
    "    set_optimizer_attribute(model,\"OutputFlag\",0)\n",
    "    \n",
    "    #Insert variables\n",
    "    @variable(model, beta[1:p_new])\n",
    "    @variable(model, beta_abs[1:p_new])\n",
    "    @variable(model, z[1:p_new], Bin) #we add a binary variable\n",
    "    \n",
    "\n",
    "    #Insert constraints\n",
    "    @constraint(model, beta_abs .>= beta) #put the dot is like doing the loop over all j\n",
    "    @constraint(model, beta_abs .>= -beta)\n",
    "    \n",
    "        \n",
    "    #sparsity constraint: over all 60 features (including transformations) \n",
    "    @constraint(model, -M*z .<= beta)\n",
    "    @constraint(model, beta .<= M*z)\n",
    "    @constraint(model, sum(z) <= k) \n",
    "    \n",
    "    #constraint on Transformation: from the 4 transformations per each feature we only select one\n",
    "    for i=1:4:p_new\n",
    "        #for j=i:i+3 #for every 4 transformations\n",
    "        @constraint(model, sum(z[i:i+3])<=1)\n",
    "        #end\n",
    "    end #we get a vector with 15 features\n",
    "    \n",
    "    #constraint on HC pairs once we have selected 15 features \n",
    "    for (i,j) in HC\n",
    "        @constraint(model, z[i] + z[j] <= 1)\n",
    "    end #we can only take one of the pairs of correlated pairs\n",
    "    #@constraint(model, sum(z[i])<=k) #ensure that the model has at most 8 features\n",
    "    \n",
    "        \n",
    "    #Insert objective\n",
    "    @objective(model, Min, sum((y-X_new*beta).^2) + lambda*sum(beta_abs))\n",
    "    \n",
    "    \n",
    "    # Optimize\n",
    "    optimize!(model)\n",
    "    \n",
    "    # Return estimated betas\n",
    "    return (value.(beta))\n",
    "    \n",
    "end"
   ]
  },
  {
   "cell_type": "markdown",
   "metadata": {},
   "source": [
    "### NORMALIZE DATA\n",
    "We normalize the data with min max scaling. We apply normalization for the numerical features only and then we use alpha to balance between numerical and binary variables."
   ]
  },
  {
   "cell_type": "code",
   "execution_count": 120,
   "metadata": {},
   "outputs": [
    {
     "data": {
      "text/plain": [
       "min_max_scaling (generic function with 1 method)"
      ]
     },
     "execution_count": 120,
     "metadata": {},
     "output_type": "execute_result"
    }
   ],
   "source": [
    "function min_max_scaling(X, num_feature_indices)\n",
    "    for i in num_feature_indices\n",
    "        X[:, i] = (X[:, i] .- minimum(X[:, i])) ./ (maximum(X[:, i]) .- minimum(X[:, i]))\n",
    "    end\n",
    "    return X\n",
    "end"
   ]
  },
  {
   "cell_type": "markdown",
   "metadata": {},
   "source": [
    "#### SOLAR"
   ]
  },
  {
   "cell_type": "code",
   "execution_count": 139,
   "metadata": {},
   "outputs": [],
   "source": [
    "#scale SOLAR TRAIN only numerical\n",
    "X_train_solar=min_max_scaling(Matrix(X_train_solar), 1:15)\n",
    "\n",
    "#numerical features\n",
    "X_num_solar = X_train_solar[:, 1:15]\n",
    "\n",
    "# Binary features as they are\n",
    "X_bin_solar = X_train_solar[:,16:end]\n",
    "\n",
    "# Numerical vs Categorical features scaling\n",
    "alpha = 0.75\n",
    "X_num_solar = alpha*X_num_solar\n",
    "X_bin_solar = (1-alpha)*X_bin_solar;\n",
    "\n",
    "# Append data\n",
    "X_train_solar_norm = [X_num_solar X_bin_solar];"
   ]
  },
  {
   "cell_type": "code",
   "execution_count": 138,
   "metadata": {},
   "outputs": [],
   "source": [
    "#scale SOLAR TRAIN only numerical\n",
    "X_valid_solar=min_max_scaling(Matrix(X_valid_solar), 1:15)\n",
    "\n",
    "#numerical features\n",
    "X_num_solar = X_valid_solar[:, 1:15]\n",
    "\n",
    "# Binary features as they are\n",
    "X_bin_solar = X_valid_solar[:,16:end]\n",
    "\n",
    "# Numerical vs Categorical features scaling\n",
    "alpha = 0.75\n",
    "X_num_solar = alpha*X_num_solar\n",
    "X_bin_solar = (1-alpha)*X_bin_solar;\n",
    "\n",
    "# Append data\n",
    "X_valid_solar_norm = [X_num_solar X_bin_solar];"
   ]
  },
  {
   "cell_type": "markdown",
   "metadata": {},
   "source": [
    "#### WIND"
   ]
  },
  {
   "cell_type": "code",
   "execution_count": 140,
   "metadata": {},
   "outputs": [],
   "source": [
    "X_train_wind=min_max_scaling(Matrix(X_train_wind), 1:15)\n",
    "\n",
    "#numerical features\n",
    "X_num_wind = X_train_wind[:, 1:15]\n",
    "\n",
    "# Binary features as they are\n",
    "X_bin_wind = X_train_wind[:,16:end]\n",
    "\n",
    "# Numerical vs Categorical features scaling\n",
    "alpha = 0.75\n",
    "X_num_wind = alpha*X_num_wind\n",
    "X_bin_wind = (1-alpha)*X_bin_wind;\n",
    "\n",
    "# Append data\n",
    "X_train_wind_norm = [X_num_wind X_bin_wind];"
   ]
  },
  {
   "cell_type": "code",
   "execution_count": 141,
   "metadata": {},
   "outputs": [],
   "source": [
    "X_valid_wind=min_max_scaling(Matrix(X_valid_wind), 1:15)\n",
    "\n",
    "#numerical features\n",
    "X_num_wind = X_valid_wind[:, 1:15]\n",
    "\n",
    "# Binary features as they are\n",
    "X_bin_wind = X_valid_wind[:,16:end]\n",
    "\n",
    "# Numerical vs Categorical features scaling\n",
    "alpha = 0.75\n",
    "X_num_wind = alpha*X_num_wind\n",
    "X_bin_wind = (1-alpha)*X_bin_wind;\n",
    "\n",
    "# Append data\n",
    "X_valid_wind_norm = [X_num_wind X_bin_wind];"
   ]
  },
  {
   "cell_type": "markdown",
   "metadata": {},
   "source": [
    "### SOLAR ENERGY OUTPUT"
   ]
  },
  {
   "cell_type": "code",
   "execution_count": 143,
   "metadata": {},
   "outputs": [
    {
     "name": "stdout",
     "output_type": "stream",
     "text": [
      "Set parameter Username\n",
      "Academic license - for non-commercial use only - expires 2023-08-19\n"
     ]
    },
    {
     "data": {
      "text/plain": [
       "26-element Vector{Float64}:\n",
       "  0.002364977583234187\n",
       "  1.0230128719423987e-10\n",
       "  8.154002852913467e-13\n",
       "  0.0037859301103054166\n",
       "  4.738885373264396e-13\n",
       "  0.0037823182066607035\n",
       "  2.3893180524601933e-13\n",
       "  0.0010317647995062666\n",
       "  1.0017770179074741e-7\n",
       "  0.0011959414515760034\n",
       "  0.00472827930846247\n",
       "  0.0013377830313550283\n",
       "  0.00388054694169201\n",
       "  0.0026789810295118933\n",
       "  8.328183709055352e-9\n",
       "  1.7635237924202087e-12\n",
       "  1.0531825202719455e-12\n",
       "  1.0694606986792117e-11\n",
       " -6.354453883195101e-13\n",
       " -1.8552301931506344e-13\n",
       "  1.0308680733877795e-12\n",
       "  1.859352798170065e-12\n",
       "  0.010548539138471742\n",
       " -8.345836167189308e-13\n",
       "  1.859352798170065e-12\n",
       "  1.0301748159414565e-12"
      ]
     },
     "execution_count": 143,
     "metadata": {},
     "output_type": "execute_result"
    }
   ],
   "source": [
    "beta_lasso=lasso(X_train_solar_norm,y_train_solar_norm,0.25)"
   ]
  },
  {
   "cell_type": "code",
   "execution_count": 144,
   "metadata": {},
   "outputs": [
    {
     "data": {
      "text/plain": [
       "0.00016719467906875534"
      ]
     },
     "execution_count": 144,
     "metadata": {},
     "output_type": "execute_result"
    }
   ],
   "source": [
    "mse(X_valid_solar_norm, y_valid_solar_norm, beta_lasso)"
   ]
  },
  {
   "cell_type": "code",
   "execution_count": 148,
   "metadata": {},
   "outputs": [
    {
     "name": "stdout",
     "output_type": "stream",
     "text": [
      "Set parameter Username\n",
      "Academic license - for non-commercial use only - expires 2023-08-19\n"
     ]
    },
    {
     "data": {
      "text/plain": [
       "104-element Vector{Float64}:\n",
       " 0.0\n",
       " 0.0\n",
       " 0.0022847297510582873\n",
       " 0.0\n",
       " 0.0\n",
       " 0.0\n",
       " 0.0\n",
       " 0.0\n",
       " 0.0\n",
       " 0.0\n",
       " 0.0\n",
       " 0.0\n",
       " 0.0\n",
       " ⋮\n",
       " 0.0\n",
       " 0.0\n",
       " 0.0\n",
       " 0.0\n",
       " 0.0\n",
       " 0.0\n",
       " 0.0\n",
       " 0.0\n",
       " 0.0\n",
       " 0.0\n",
       " 0.0\n",
       " 0.0"
      ]
     },
     "execution_count": 148,
     "metadata": {},
     "output_type": "execute_result"
    }
   ],
   "source": [
    "beta_opt=holistic_regression(X_train_solar_norm, y_train_solar_norm, 0.2, 0.6, 50, 10)"
   ]
  },
  {
   "cell_type": "code",
   "execution_count": 150,
   "metadata": {},
   "outputs": [
    {
     "data": {
      "text/plain": [
       "10-element Vector{Int64}:\n",
       "  3\n",
       " 15\n",
       " 23\n",
       " 29\n",
       " 35\n",
       " 39\n",
       " 43\n",
       " 47\n",
       " 51\n",
       " 55"
      ]
     },
     "execution_count": 150,
     "metadata": {},
     "output_type": "execute_result"
    }
   ],
   "source": [
    "#return indices of selected features\n",
    "selected_features=findall(x->x>0, beta_opt)"
   ]
  },
  {
   "cell_type": "code",
   "execution_count": 151,
   "metadata": {},
   "outputs": [
    {
     "data": {
      "text/plain": [
       "10-element Vector{String}:\n",
       " \"Abs_Sqrt1\"\n",
       " \"Abs_Sqrt4\"\n",
       " \"Abs_Sqrt6\"\n",
       " \"X8\"\n",
       " \"Abs_Sqrt9\"\n",
       " \"Abs_Sqrt10\"\n",
       " \"Abs_Sqrt11\"\n",
       " \"Abs_Sqrt12\"\n",
       " \"Abs_Sqrt13\"\n",
       " \"Abs_Sqrt14\""
      ]
     },
     "execution_count": 151,
     "metadata": {},
     "output_type": "execute_result"
    }
   ],
   "source": [
    "#what is the name of the selected features\n",
    "names(transformation(X_train_solar))[selected_features]"
   ]
  },
  {
   "cell_type": "markdown",
   "metadata": {},
   "source": [
    "* Absolute squared value of temperature\n",
    "* Absolute squared value of sealevelpressure\n",
    "* Absolute squared value of solarirradiation"
   ]
  },
  {
   "cell_type": "code",
   "execution_count": 153,
   "metadata": {},
   "outputs": [
    {
     "data": {
      "text/plain": [
       "0.0001539088840623817"
      ]
     },
     "execution_count": 153,
     "metadata": {},
     "output_type": "execute_result"
    }
   ],
   "source": [
    "#report mse\n",
    "X_valid_solar_norm_trans=Matrix(transformation(X_valid_solar_norm))\n",
    "mse(X_valid_solar_norm_trans, y_valid_solar_norm, beta_opt)"
   ]
  },
  {
   "cell_type": "markdown",
   "metadata": {},
   "source": [
    "                DO CROSS VALIDATION TO SEE WHICH HYPERPARAMETERS ARE BETTER FOR HOLISTIC REGRESSION!"
   ]
  },
  {
   "cell_type": "markdown",
   "metadata": {},
   "source": [
    "### WIND ENERGY OUTPUT"
   ]
  },
  {
   "cell_type": "code",
   "execution_count": 154,
   "metadata": {},
   "outputs": [
    {
     "name": "stdout",
     "output_type": "stream",
     "text": [
      "Set parameter Username\n",
      "Academic license - for non-commercial use only - expires 2023-08-19\n"
     ]
    },
    {
     "data": {
      "text/plain": [
       "26-element Vector{Float64}:\n",
       " -5.9195148853837106e-12\n",
       " -9.707937568958661e-12\n",
       " -0.004641564285849145\n",
       " -1.3022976711578445e-9\n",
       "  3.0667225224952805e-12\n",
       "  0.002001954324278266\n",
       " -6.941982102736347e-13\n",
       " -0.0018259408045796569\n",
       "  0.08658460529742229\n",
       "  0.0048768284982343875\n",
       " -0.00502490324086349\n",
       " -0.0017505624678616778\n",
       "  0.00891529039369091\n",
       " -0.00936388328852403\n",
       " -1.061720625543581e-8\n",
       "  7.014151095538227e-11\n",
       " -0.00019893076778380558\n",
       "  1.3647793639538894e-8\n",
       "  1.1390441454357012e-11\n",
       " -6.785032768247417e-14\n",
       " -1.705909998788249e-12\n",
       " -6.380218356754201e-13\n",
       "  1.480254502946299e-11\n",
       "  1.0733115689064553e-11\n",
       " -6.380218356754201e-13\n",
       " -1.705909998788249e-12"
      ]
     },
     "execution_count": 154,
     "metadata": {},
     "output_type": "execute_result"
    }
   ],
   "source": [
    "beta_lasso=lasso(X_train_wind_norm,y_train_wind_norm,0.25)"
   ]
  },
  {
   "cell_type": "code",
   "execution_count": 155,
   "metadata": {},
   "outputs": [
    {
     "data": {
      "text/plain": [
       "0.00028558937652363415"
      ]
     },
     "execution_count": 155,
     "metadata": {},
     "output_type": "execute_result"
    }
   ],
   "source": [
    "mse(X_valid_wind_norm, y_valid_wind_norm, beta_lasso)"
   ]
  },
  {
   "cell_type": "markdown",
   "metadata": {},
   "source": [
    "### CROSS VALIDATION: best lambda, rho, and k"
   ]
  },
  {
   "cell_type": "code",
   "execution_count": 173,
   "metadata": {},
   "outputs": [
    {
     "name": "stdout",
     "output_type": "stream",
     "text": [
      "Set parameter Username\n",
      "Academic license - for non-commercial use only - expires 2023-08-19\n",
      "Set parameter Username\n",
      "Academic license - for non-commercial use only - expires 2023-08-19\n",
      "Set parameter Username\n",
      "Academic license - for non-commercial use only - expires 2023-08-19\n",
      "Set parameter Username\n",
      "Academic license - for non-commercial use only - expires 2023-08-19\n",
      "Set parameter Username\n",
      "Academic license - for non-commercial use only - expires 2023-08-19\n",
      "Set parameter Username\n",
      "Academic license - for non-commercial use only - expires 2023-08-19\n",
      "Set parameter Username\n",
      "Academic license - for non-commercial use only - expires 2023-08-19\n",
      "Set parameter Username\n",
      "Academic license - for non-commercial use only - expires 2023-08-19\n",
      "Set parameter Username\n",
      "Academic license - for non-commercial use only - expires 2023-08-19\n"
     ]
    }
   ],
   "source": [
    "#find best lambda\n",
    "lowest_mse=Inf\n",
    "best_lambda=0\n",
    "for i in [0.1,0.2,0.3,0.4,0.5,0.6,0.7,0.8,0.9]\n",
    "    beta_opt=holistic_regression(X_train_wind_norm, y_train_wind_norm, i, 0.6, 50, 10)\n",
    "    X_valid_wind_norm_trans=Matrix(transformation(X_valid_wind_norm))\n",
    "    mse_temp= mse(X_valid_wind_norm_trans, y_valid_wind_norm, beta_opt)\n",
    "    if mse_temp<lowest_mse\n",
    "        lowest_mse=mse_temp\n",
    "        best_lambda=i\n",
    "    end\n",
    "end"
   ]
  },
  {
   "cell_type": "code",
   "execution_count": 175,
   "metadata": {},
   "outputs": [
    {
     "name": "stdout",
     "output_type": "stream",
     "text": [
      "Set parameter Username\n",
      "Academic license - for non-commercial use only - expires 2023-08-19\n",
      "Set parameter Username\n",
      "Academic license - for non-commercial use only - expires 2023-08-19\n",
      "Set parameter Username\n",
      "Academic license - for non-commercial use only - expires 2023-08-19\n",
      "Set parameter Username\n",
      "Academic license - for non-commercial use only - expires 2023-08-19\n",
      "Set parameter Username\n",
      "Academic license - for non-commercial use only - expires 2023-08-19\n",
      "Set parameter Username\n",
      "Academic license - for non-commercial use only - expires 2023-08-19\n",
      "Set parameter Username\n",
      "Academic license - for non-commercial use only - expires 2023-08-19\n",
      "Set parameter Username\n",
      "Academic license - for non-commercial use only - expires 2023-08-19\n",
      "Set parameter Username\n",
      "Academic license - for non-commercial use only - expires 2023-08-19\n",
      "Set parameter Username\n",
      "Academic license - for non-commercial use only - expires 2023-08-19\n",
      "Set parameter Username\n",
      "Academic license - for non-commercial use only - expires 2023-08-19\n",
      "Set parameter Username\n",
      "Academic license - for non-commercial use only - expires 2023-08-19\n",
      "Set parameter Username\n",
      "Academic license - for non-commercial use only - expires 2023-08-19\n",
      "Set parameter Username\n",
      "Academic license - for non-commercial use only - expires 2023-08-19\n",
      "Set parameter Username\n",
      "Academic license - for non-commercial use only - expires 2023-08-19\n",
      "Set parameter Username\n",
      "Academic license - for non-commercial use only - expires 2023-08-19\n",
      "Set parameter Username\n",
      "Academic license - for non-commercial use only - expires 2023-08-19\n",
      "Set parameter Username\n",
      "Academic license - for non-commercial use only - expires 2023-08-19\n",
      "Set parameter Username\n",
      "Academic license - for non-commercial use only - expires 2023-08-19\n",
      "Set parameter Username\n",
      "Academic license - for non-commercial use only - expires 2023-08-19\n",
      "Set parameter Username\n",
      "Academic license - for non-commercial use only - expires 2023-08-19\n",
      "Set parameter Username\n",
      "Academic license - for non-commercial use only - expires 2023-08-19\n",
      "Set parameter Username\n",
      "Academic license - for non-commercial use only - expires 2023-08-19\n",
      "Set parameter Username\n",
      "Academic license - for non-commercial use only - expires 2023-08-19\n",
      "Set parameter Username\n",
      "Academic license - for non-commercial use only - expires 2023-08-19\n",
      "Set parameter Username\n",
      "Academic license - for non-commercial use only - expires 2023-08-19\n",
      "Set parameter Username\n",
      "Academic license - for non-commercial use only - expires 2023-08-19\n",
      "Set parameter Username\n",
      "Academic license - for non-commercial use only - expires 2023-08-19\n",
      "Set parameter Username\n",
      "Academic license - for non-commercial use only - expires 2023-08-19\n",
      "Set parameter Username\n",
      "Academic license - for non-commercial use only - expires 2023-08-19\n",
      "Set parameter Username\n",
      "Academic license - for non-commercial use only - expires 2023-08-19\n",
      "Set parameter Username\n",
      "Academic license - for non-commercial use only - expires 2023-08-19\n",
      "Set parameter Username\n",
      "Academic license - for non-commercial use only - expires 2023-08-19\n",
      "Set parameter Username\n",
      "Academic license - for non-commercial use only - expires 2023-08-19\n",
      "Set parameter Username\n",
      "Academic license - for non-commercial use only - expires 2023-08-19\n",
      "Set parameter Username\n",
      "Academic license - for non-commercial use only - expires 2023-08-19\n",
      "Set parameter Username\n",
      "Academic license - for non-commercial use only - expires 2023-08-19\n",
      "Set parameter Username\n",
      "Academic license - for non-commercial use only - expires 2023-08-19\n",
      "Set parameter Username\n",
      "Academic license - for non-commercial use only - expires 2023-08-19\n",
      "Set parameter Username\n",
      "Academic license - for non-commercial use only - expires 2023-08-19\n",
      "Set parameter Username\n",
      "Academic license - for non-commercial use only - expires 2023-08-19\n",
      "Set parameter Username\n",
      "Academic license - for non-commercial use only - expires 2023-08-19\n",
      "Set parameter Username\n",
      "Academic license - for non-commercial use only - expires 2023-08-19\n",
      "Set parameter Username\n",
      "Academic license - for non-commercial use only - expires 2023-08-19\n",
      "Set parameter Username\n",
      "Academic license - for non-commercial use only - expires 2023-08-19\n"
     ]
    }
   ],
   "source": [
    "#find best lambda and best rho\n",
    "lowest_mse=Inf\n",
    "best_lambda=0\n",
    "best_rho=0\n",
    "for lambda in [0.1,0.2,0.3,0.4,0.5,0.6,0.7,0.8,0.9]\n",
    "    for rho in [0.5, 0.6, 0.7, 0.8, 0.9]\n",
    "        beta_opt=holistic_regression(X_train_wind_norm, y_train_wind_norm, lambda, rho, 50, 10)\n",
    "        X_valid_wind_norm_trans=Matrix(transformation(X_valid_wind_norm))\n",
    "        mse_temp= mse(X_valid_wind_norm_trans, y_valid_wind_norm, beta_opt)\n",
    "        #for each lambda, find the best rho\n",
    "        if mse_temp<lowest_mse\n",
    "            lowest_mse=mse_temp\n",
    "            best_lambda=lambda\n",
    "            best_rho=rho\n",
    "        end\n",
    "    end\n",
    "end"
   ]
  },
  {
   "cell_type": "code",
   "execution_count": 179,
   "metadata": {},
   "outputs": [],
   "source": [
    "#find best lambda, rho, and k\n",
    "lowest_mse=Inf\n",
    "best_lambda=0\n",
    "best_rho=0\n",
    "best_k=0\n",
    "for lambda in [0.1,0.2,0.3,0.4,0.5,0.6,0.7,0.8,0.9]\n",
    "    for rho in [0.5, 0.6, 0.7, 0.8, 0.9]\n",
    "        for k in [6,7,8,9,10,11,12,13]\n",
    "            beta_opt=holistic_regression(X_train_wind_norm, y_train_wind_norm, lambda, rho, 50, k)\n",
    "            X_valid_wind_norm_trans=Matrix(transformation(X_valid_wind_norm))\n",
    "            mse_temp= mse(X_valid_wind_norm_trans, y_valid_wind_norm, beta_opt)\n",
    "            #for each lambda, find the best rho\n",
    "            if mse_temp<lowest_mse\n",
    "                lowest_mse=mse_temp\n",
    "                best_lambda=lambda\n",
    "                best_rho=rho\n",
    "                best_k=k\n",
    "            end\n",
    "        end\n",
    "    end\n",
    "end"
   ]
  },
  {
   "cell_type": "code",
   "execution_count": null,
   "metadata": {},
   "outputs": [],
   "source": [
    "println(\"Best lambda: \", best_lambda)\n",
    "println(\"Best rho: \", best_rho)\n",
    "println(\"Best k: \", best_k)"
   ]
  },
  {
   "cell_type": "code",
   "execution_count": 164,
   "metadata": {},
   "outputs": [
    {
     "name": "stdout",
     "output_type": "stream",
     "text": [
      "Set parameter Username\n",
      "Academic license - for non-commercial use only - expires 2023-08-19\n"
     ]
    },
    {
     "data": {
      "text/plain": [
       "104-element Vector{Float64}:\n",
       "  0.0\n",
       " -0.00781142665320559\n",
       "  0.0\n",
       "  0.0\n",
       "  0.0\n",
       "  0.0\n",
       "  0.0\n",
       "  0.0\n",
       "  0.0\n",
       "  0.0\n",
       "  0.0\n",
       "  0.0\n",
       "  0.0\n",
       "  ⋮\n",
       "  0.0\n",
       "  0.0\n",
       "  0.0\n",
       "  0.0\n",
       "  0.0\n",
       "  0.0\n",
       "  0.0\n",
       "  0.0\n",
       "  0.0\n",
       "  0.0\n",
       "  0.0\n",
       "  0.0"
      ]
     },
     "execution_count": 164,
     "metadata": {},
     "output_type": "execute_result"
    }
   ],
   "source": [
    "#holistic regression\n",
    "beta_opt=holistic_regression(X_train_wind_norm, y_train_wind_norm, 0.1, 0.45, 50, 10)"
   ]
  },
  {
   "cell_type": "code",
   "execution_count": 158,
   "metadata": {},
   "outputs": [
    {
     "data": {
      "text/plain": [
       "4-element Vector{Int64}:\n",
       " 23\n",
       " 36\n",
       " 39\n",
       " 51"
      ]
     },
     "execution_count": 158,
     "metadata": {},
     "output_type": "execute_result"
    }
   ],
   "source": [
    "#return indices of selected features\n",
    "selected_features=findall(x->x>0, beta_opt)"
   ]
  },
  {
   "cell_type": "code",
   "execution_count": 159,
   "metadata": {},
   "outputs": [
    {
     "data": {
      "text/plain": [
       "4-element Vector{String}:\n",
       " \"Abs_Sqrt6\"\n",
       " \"Log9\"\n",
       " \"Abs_Sqrt10\"\n",
       " \"Abs_Sqrt13\""
      ]
     },
     "execution_count": 159,
     "metadata": {},
     "output_type": "execute_result"
    }
   ],
   "source": [
    "#what is the name of the features?\n",
    "names(transformation(X_train_wind))[selected_features]"
   ]
  },
  {
   "cell_type": "markdown",
   "metadata": {},
   "source": [
    "* Absolute value of windspeed\n",
    "* Absolute value of winddirection\n",
    "* Absolute value of precipitation type rain\n"
   ]
  },
  {
   "cell_type": "code",
   "execution_count": 160,
   "metadata": {},
   "outputs": [
    {
     "data": {
      "text/plain": [
       "0.0002889647778727034"
      ]
     },
     "execution_count": 160,
     "metadata": {},
     "output_type": "execute_result"
    }
   ],
   "source": [
    "#mse\n",
    "X_valid_wind_norm_trans=Matrix(transformation(X_valid_wind_norm))\n",
    "mse(X_valid_wind_norm_trans, y_valid_wind_norm, beta_opt)"
   ]
  }
 ],
 "metadata": {
  "kernelspec": {
   "display_name": "Julia 1.8.2",
   "language": "julia",
   "name": "julia-1.8"
  },
  "language_info": {
   "file_extension": ".jl",
   "mimetype": "application/julia",
   "name": "julia",
   "version": "1.8.2"
  },
  "orig_nbformat": 4
 },
 "nbformat": 4,
 "nbformat_minor": 2
}
