{
 "cells": [
  {
   "cell_type": "markdown",
   "metadata": {},
   "source": [
    "# RIDGE"
   ]
  },
  {
   "cell_type": "code",
   "execution_count": 1,
   "metadata": {},
   "outputs": [],
   "source": [
    "using CSV, Tables, LinearAlgebra, Random, Gurobi, JuMP, Statistics, DataFrames, Metrics\n",
    "#read train and validation data and split it into X and y\n",
    "X_train_solar=Matrix(DataFrame(CSV.File(\"X_train_solar.csv\")))\n",
    "y_train_solar=Matrix(DataFrame(CSV.File(\"y_train_solar.csv\")))\n",
    "X_train_wind=Matrix(DataFrame(CSV.File(\"X_train_wind.csv\")))\n",
    "y_train_wind=Matrix(DataFrame(CSV.File(\"y_train_wind.csv\")))\n",
    "\n",
    "X_valid_solar=Matrix(DataFrame(CSV.File(\"X_valid_solar.csv\")))\n",
    "y_valid_solar=Matrix(DataFrame(CSV.File(\"y_valid_solar.csv\")))\n",
    "X_valid_wind=Matrix(DataFrame(CSV.File(\"X_valid_wind.csv\")))\n",
    "y_valid_wind=Matrix(DataFrame(CSV.File(\"y_valid_wind.csv\")));"
   ]
  },
  {
   "cell_type": "markdown",
   "metadata": {},
   "source": [
    "### NORMALIZE DATA\n",
    "We normalize the data with min max scaling. We apply normalization for the numerical features only and then we use alpha to balance between numerical and binary variables."
   ]
  },
  {
   "cell_type": "code",
   "execution_count": 2,
   "metadata": {},
   "outputs": [
    {
     "data": {
      "text/plain": [
       "min_max_scaling (generic function with 1 method)"
      ]
     },
     "execution_count": 2,
     "metadata": {},
     "output_type": "execute_result"
    }
   ],
   "source": [
    "function min_max_scaling(X, num_feature_indices)\n",
    "    for i in num_feature_indices\n",
    "        X[:, i] = (X[:, i] .- minimum(X[:, i])) ./ (maximum(X[:, i]) .- minimum(X[:, i]))\n",
    "    end\n",
    "    return X\n",
    "end"
   ]
  },
  {
   "cell_type": "markdown",
   "metadata": {},
   "source": [
    "#### SOLAR"
   ]
  },
  {
   "cell_type": "code",
   "execution_count": 3,
   "metadata": {},
   "outputs": [],
   "source": [
    "#scale SOLAR TRAIN only numerical\n",
    "X_num_solar=min_max_scaling(Matrix(X_train_solar), 1:15)\n",
    "\n",
    "# Binary features as they are\n",
    "X_bin_solar = X_train_solar[:,16:end]\n",
    "\n",
    "# Numerical vs Categorical features scaling\n",
    "alpha = 0.75\n",
    "X_num_solar = alpha*X_num_solar\n",
    "X_bin_solar = (1-alpha)*X_bin_solar;\n",
    "\n",
    "# Append data\n",
    "X_train_solar_norm = [X_num_solar X_bin_solar];"
   ]
  },
  {
   "cell_type": "code",
   "execution_count": 4,
   "metadata": {},
   "outputs": [],
   "source": [
    "#scale SOLAR VALID only numerical\n",
    "X_num_solar=min_max_scaling(Matrix(X_valid_solar), 1:15)\n",
    "\n",
    "# Binary features as they are\n",
    "X_bin_solar = X_valid_solar[:,16:end]\n",
    "\n",
    "# Numerical vs Categorical features scaling\n",
    "alpha = 0.75\n",
    "X_num_solar = alpha*X_num_solar\n",
    "X_bin_solar = (1-alpha)*X_bin_solar;\n",
    "\n",
    "# Append data\n",
    "X_valid_solar_norm = [X_num_solar X_bin_solar];"
   ]
  },
  {
   "cell_type": "code",
   "execution_count": 5,
   "metadata": {},
   "outputs": [],
   "source": [
    "#scale Y \n",
    "y_train_solar_norm = min_max_scaling(Matrix(y_train_solar), 1:1)\n",
    "y_valid_solar_norm = min_max_scaling(Matrix(y_valid_solar), 1:1);"
   ]
  },
  {
   "cell_type": "markdown",
   "metadata": {},
   "source": [
    "#### WIND"
   ]
  },
  {
   "cell_type": "code",
   "execution_count": 6,
   "metadata": {},
   "outputs": [],
   "source": [
    "X_num_wind=min_max_scaling(Matrix(X_train_wind), 1:15)\n",
    "\n",
    "# Binary features as they are\n",
    "X_bin_wind = X_train_wind[:,16:end]\n",
    "\n",
    "# Numerical vs Categorical features scaling\n",
    "alpha = 0.75\n",
    "X_num_wind = alpha*X_num_wind\n",
    "X_bin_wind = (1-alpha)*X_bin_wind;\n",
    "\n",
    "# Append data\n",
    "X_train_wind_norm = [X_num_wind X_bin_wind];"
   ]
  },
  {
   "cell_type": "code",
   "execution_count": 7,
   "metadata": {},
   "outputs": [],
   "source": [
    "X_num_wind=min_max_scaling(Matrix(X_valid_wind), 1:15)\n",
    "\n",
    "# Binary features as they are\n",
    "X_bin_wind = X_valid_wind[:,16:end]\n",
    "\n",
    "# Numerical vs Categorical features scaling\n",
    "alpha = 0.75\n",
    "X_num_wind = alpha*X_num_wind\n",
    "X_bin_wind = (1-alpha)*X_bin_wind;\n",
    "\n",
    "# Append data\n",
    "X_valid_wind_norm = [X_num_wind X_bin_wind];"
   ]
  },
  {
   "cell_type": "code",
   "execution_count": 8,
   "metadata": {},
   "outputs": [],
   "source": [
    "#scale Y \n",
    "y_train_wind_norm=min_max_scaling(Matrix(y_train_wind), 1:1)\n",
    "y_valid_wind_norm=min_max_scaling(Matrix(y_valid_wind), 1:1);"
   ]
  },
  {
   "cell_type": "markdown",
   "metadata": {},
   "source": [
    "## Ridge"
   ]
  },
  {
   "cell_type": "code",
   "execution_count": 9,
   "metadata": {},
   "outputs": [
    {
     "data": {
      "text/plain": [
       "ridge (generic function with 1 method)"
      ]
     },
     "execution_count": 9,
     "metadata": {},
     "output_type": "execute_result"
    }
   ],
   "source": [
    "function ridge(X,y,lambda)\n",
    "    \n",
    "    #Build model\n",
    "    model = Model(Gurobi.Optimizer)#we have defined the model, pass Gurobi optimizer into the model\n",
    "    set_optimizer_attribute(model,\"OutputFlag\",0)\n",
    "    \n",
    "    #Insert variables\n",
    "    n, p = size(X)\n",
    "    \n",
    "    @variable(model, beta[j=1:p])\n",
    "    @variable(model, beta_abs[j=1:p])    \n",
    "    #Insert constraints\n",
    "    @constraint(model, beta_abs .>= beta) #put the dot is like doing the loop over all j\n",
    "    @constraint(model, beta_abs .>= -beta)\n",
    "    \n",
    "    #Insert objective\n",
    "    @objective(model, Min, sum((y-X*beta).^2) + lambda*sum(beta_abs).^2)\n",
    "    \n",
    "    # Optimize\n",
    "    optimize!(model)\n",
    "    \n",
    "    # Return estimated betas\n",
    "    return (value.(beta))\n",
    "    \n",
    "end"
   ]
  },
  {
   "cell_type": "code",
   "execution_count": 10,
   "metadata": {},
   "outputs": [
    {
     "data": {
      "text/plain": [
       "find_best_lambda (generic function with 1 method)"
      ]
     },
     "execution_count": 10,
     "metadata": {},
     "output_type": "execute_result"
    }
   ],
   "source": [
    "#CROSS VALIDATION: find best lambda \n",
    "function find_best_lambda(X,y,X_valid,y_valid)\n",
    "    lowest_mse=Inf\n",
    "    best_lambda=0\n",
    "    for lambda in [0.1,0.2,0.3,0.4,0.5,0.6,0.7,0.8,0.9]\n",
    "        beta_ridge=ridge(X, y, lambda)\n",
    "        mse_temp= mse(y_valid, X_valid*beta_ridge)\n",
    "        if mse_temp<lowest_mse\n",
    "            lowest_mse=mse_temp\n",
    "            best_lambda=lambda\n",
    "        end\n",
    "    end\n",
    "    return best_lambda\n",
    "end"
   ]
  },
  {
   "cell_type": "markdown",
   "metadata": {},
   "source": [
    "### SOLAR"
   ]
  },
  {
   "cell_type": "markdown",
   "metadata": {},
   "source": [
    "#### CV"
   ]
  },
  {
   "cell_type": "code",
   "execution_count": 11,
   "metadata": {},
   "outputs": [
    {
     "name": "stdout",
     "output_type": "stream",
     "text": [
      "Set parameter Username\n",
      "Academic license - for non-commercial use only - expires 2023-08-19\n",
      "Set parameter Username\n",
      "Academic license - for non-commercial use only - expires 2023-08-19\n",
      "Set parameter Username\n",
      "Academic license - for non-commercial use only - expires 2023-08-19\n",
      "Set parameter Username\n",
      "Academic license - for non-commercial use only - expires 2023-08-19\n",
      "Set parameter Username\n",
      "Academic license - for non-commercial use only - expires 2023-08-19\n",
      "Set parameter Username\n",
      "Academic license - for non-commercial use only - expires 2023-08-19\n",
      "Set parameter Username\n",
      "Academic license - for non-commercial use only - expires 2023-08-19\n",
      "Set parameter Username\n",
      "Academic license - for non-commercial use only - expires 2023-08-19\n",
      "Set parameter Username\n",
      "Academic license - for non-commercial use only - expires 2023-08-19\n"
     ]
    },
    {
     "data": {
      "text/plain": [
       "0.9"
      ]
     },
     "execution_count": 11,
     "metadata": {},
     "output_type": "execute_result"
    }
   ],
   "source": [
    "#Not normalized\n",
    "find_best_lambda(X_train_solar,y_train_solar, X_valid_solar, y_valid_solar)"
   ]
  },
  {
   "cell_type": "code",
   "execution_count": 12,
   "metadata": {},
   "outputs": [
    {
     "name": "stdout",
     "output_type": "stream",
     "text": [
      "Set parameter Username\n",
      "Academic license - for non-commercial use only - expires 2023-08-19\n",
      "Set parameter Username\n",
      "Academic license - for non-commercial use only - expires 2023-08-19\n",
      "Set parameter Username\n",
      "Academic license - for non-commercial use only - expires 2023-08-19\n",
      "Set parameter Username\n",
      "Academic license - for non-commercial use only - expires 2023-08-19\n",
      "Set parameter Username\n",
      "Academic license - for non-commercial use only - expires 2023-08-19\n",
      "Set parameter Username\n",
      "Academic license - for non-commercial use only - expires 2023-08-19\n",
      "Set parameter Username\n",
      "Academic license - for non-commercial use only - expires 2023-08-19\n",
      "Set parameter Username\n",
      "Academic license - for non-commercial use only - expires 2023-08-19\n",
      "Set parameter Username\n",
      "Academic license - for non-commercial use only - expires 2023-08-19\n"
     ]
    },
    {
     "data": {
      "text/plain": [
       "0.2"
      ]
     },
     "execution_count": 12,
     "metadata": {},
     "output_type": "execute_result"
    }
   ],
   "source": [
    "#X normalized\n",
    "find_best_lambda(X_train_solar_norm,y_train_solar, X_valid_solar_norm, y_valid_solar)"
   ]
  },
  {
   "cell_type": "code",
   "execution_count": 13,
   "metadata": {},
   "outputs": [
    {
     "name": "stdout",
     "output_type": "stream",
     "text": [
      "Set parameter Username\n",
      "Academic license - for non-commercial use only - expires 2023-08-19\n",
      "Set parameter Username\n",
      "Academic license - for non-commercial use only - expires 2023-08-19\n",
      "Set parameter Username\n",
      "Academic license - for non-commercial use only - expires 2023-08-19\n",
      "Set parameter Username\n",
      "Academic license - for non-commercial use only - expires 2023-08-19\n",
      "Set parameter Username\n",
      "Academic license - for non-commercial use only - expires 2023-08-19\n",
      "Set parameter Username\n",
      "Academic license - for non-commercial use only - expires 2023-08-19\n",
      "Set parameter Username\n",
      "Academic license - for non-commercial use only - expires 2023-08-19\n",
      "Set parameter Username\n",
      "Academic license - for non-commercial use only - expires 2023-08-19\n",
      "Set parameter Username\n",
      "Academic license - for non-commercial use only - expires 2023-08-19\n"
     ]
    },
    {
     "data": {
      "text/plain": [
       "0.1"
      ]
     },
     "execution_count": 13,
     "metadata": {},
     "output_type": "execute_result"
    }
   ],
   "source": [
    "#Not normalized\n",
    "find_best_lambda(X_train_solar_norm,y_train_solar_norm, X_valid_solar_norm, y_valid_solar_norm)"
   ]
  },
  {
   "cell_type": "markdown",
   "metadata": {},
   "source": [
    "#### EVALUATION "
   ]
  },
  {
   "cell_type": "code",
   "execution_count": 23,
   "metadata": {},
   "outputs": [
    {
     "name": "stdout",
     "output_type": "stream",
     "text": [
      "Set parameter Username\n",
      "Academic license - for non-commercial use only - expires 2023-08-19\n"
     ]
    }
   ],
   "source": [
    "#Not normalized\n",
    "beta_lasso=ridge(X_train_solar,y_train_solar, 0.9);"
   ]
  },
  {
   "cell_type": "code",
   "execution_count": 24,
   "metadata": {},
   "outputs": [
    {
     "name": "stdout",
     "output_type": "stream",
     "text": [
      "MSE: 9463.110065938812\n",
      "MAE: 78.91274582834613\n",
      "R2: 0.3456856472945672\n"
     ]
    }
   ],
   "source": [
    "println(\"MSE: \", mse(y_valid_solar, X_valid_solar*beta_lasso))\n",
    "println(\"MAE: \", mae(y_valid_solar, X_valid_solar*beta_lasso))\n",
    "println(\"R2: \", r2_score(y_valid_solar, X_valid_solar*beta_lasso))"
   ]
  },
  {
   "cell_type": "code",
   "execution_count": 25,
   "metadata": {},
   "outputs": [
    {
     "name": "stdout",
     "output_type": "stream",
     "text": [
      "Set parameter Username\n",
      "Academic license - for non-commercial use only - expires 2023-08-19\n"
     ]
    }
   ],
   "source": [
    "#X normalized\n",
    "beta_lasso=ridge(X_train_solar_norm,y_train_solar, 0.2);"
   ]
  },
  {
   "cell_type": "code",
   "execution_count": 26,
   "metadata": {},
   "outputs": [
    {
     "name": "stdout",
     "output_type": "stream",
     "text": [
      "MSE: 9311.563483600079\n",
      "MAE: 79.17314992497298\n",
      "R2: 0.3674740660527871\n"
     ]
    }
   ],
   "source": [
    "println(\"MSE: \", mse(y_valid_solar, X_valid_solar_norm*beta_lasso))\n",
    "println(\"MAE: \", mae(y_valid_solar, X_valid_solar_norm*beta_lasso))\n",
    "println(\"R2: \", r2_score(y_valid_solar, X_valid_solar_norm*beta_lasso))"
   ]
  },
  {
   "cell_type": "code",
   "execution_count": 27,
   "metadata": {},
   "outputs": [
    {
     "name": "stdout",
     "output_type": "stream",
     "text": [
      "Set parameter Username\n",
      "Academic license - for non-commercial use only - expires 2023-08-19\n"
     ]
    }
   ],
   "source": [
    "#X,y normalized\n",
    "beta_lasso=ridge(X_train_solar_norm,y_train_solar_norm, 0.1);"
   ]
  },
  {
   "cell_type": "code",
   "execution_count": 28,
   "metadata": {},
   "outputs": [
    {
     "name": "stdout",
     "output_type": "stream",
     "text": [
      "MSE: 0.050235256420229295\n",
      "MAE: 0.1817041057153202\n",
      "R2: -43.75806166400589\n"
     ]
    }
   ],
   "source": [
    "println(\"MSE: \", mse(y_valid_solar_norm, X_valid_solar_norm*beta_lasso))\n",
    "println(\"MAE: \", mae(y_valid_solar_norm, X_valid_solar_norm*beta_lasso))\n",
    "println(\"R2: \", r2_score(y_valid_solar_norm, X_valid_solar_norm*beta_lasso))"
   ]
  },
  {
   "cell_type": "markdown",
   "metadata": {},
   "source": [
    "### WIND"
   ]
  },
  {
   "cell_type": "markdown",
   "metadata": {},
   "source": [
    "#### CV"
   ]
  },
  {
   "cell_type": "code",
   "execution_count": 29,
   "metadata": {},
   "outputs": [
    {
     "name": "stdout",
     "output_type": "stream",
     "text": [
      "Set parameter Username\n",
      "Academic license - for non-commercial use only - expires 2023-08-19\n",
      "Set parameter Username\n",
      "Academic license - for non-commercial use only - expires 2023-08-19\n",
      "Set parameter Username\n",
      "Academic license - for non-commercial use only - expires 2023-08-19\n",
      "Set parameter Username\n",
      "Academic license - for non-commercial use only - expires 2023-08-19\n",
      "Set parameter Username\n",
      "Academic license - for non-commercial use only - expires 2023-08-19\n",
      "Set parameter Username\n",
      "Academic license - for non-commercial use only - expires 2023-08-19\n",
      "Set parameter Username\n",
      "Academic license - for non-commercial use only - expires 2023-08-19\n",
      "Set parameter Username\n",
      "Academic license - for non-commercial use only - expires 2023-08-19\n",
      "Set parameter Username\n",
      "Academic license - for non-commercial use only - expires 2023-08-19\n"
     ]
    },
    {
     "data": {
      "text/plain": [
       "0.6"
      ]
     },
     "execution_count": 29,
     "metadata": {},
     "output_type": "execute_result"
    }
   ],
   "source": [
    "#Not normalized\n",
    "find_best_lambda(X_train_wind,y_train_wind, X_valid_wind, y_valid_wind)"
   ]
  },
  {
   "cell_type": "code",
   "execution_count": 30,
   "metadata": {},
   "outputs": [
    {
     "name": "stdout",
     "output_type": "stream",
     "text": [
      "Set parameter Username\n",
      "Academic license - for non-commercial use only - expires 2023-08-19\n",
      "Set parameter Username\n",
      "Academic license - for non-commercial use only - expires 2023-08-19\n",
      "Set parameter Username\n",
      "Academic license - for non-commercial use only - expires 2023-08-19\n",
      "Set parameter Username\n",
      "Academic license - for non-commercial use only - expires 2023-08-19\n",
      "Set parameter Username\n",
      "Academic license - for non-commercial use only - expires 2023-08-19\n",
      "Set parameter Username\n",
      "Academic license - for non-commercial use only - expires 2023-08-19\n",
      "Set parameter Username\n",
      "Academic license - for non-commercial use only - expires 2023-08-19\n",
      "Set parameter Username\n",
      "Academic license - for non-commercial use only - expires 2023-08-19\n",
      "Set parameter Username\n",
      "Academic license - for non-commercial use only - expires 2023-08-19\n"
     ]
    },
    {
     "data": {
      "text/plain": [
       "0.9"
      ]
     },
     "execution_count": 30,
     "metadata": {},
     "output_type": "execute_result"
    }
   ],
   "source": [
    "#X normalized\n",
    "find_best_lambda(X_train_wind_norm,y_train_wind, X_valid_wind_norm, y_valid_wind)"
   ]
  },
  {
   "cell_type": "code",
   "execution_count": 31,
   "metadata": {},
   "outputs": [
    {
     "name": "stdout",
     "output_type": "stream",
     "text": [
      "Set parameter Username\n",
      "Academic license - for non-commercial use only - expires 2023-08-19\n",
      "Set parameter Username\n",
      "Academic license - for non-commercial use only - expires 2023-08-19\n",
      "Set parameter Username\n",
      "Academic license - for non-commercial use only - expires 2023-08-19\n",
      "Set parameter Username\n",
      "Academic license - for non-commercial use only - expires 2023-08-19\n",
      "Set parameter Username\n",
      "Academic license - for non-commercial use only - expires 2023-08-19\n",
      "Set parameter Username\n",
      "Academic license - for non-commercial use only - expires 2023-08-19\n",
      "Set parameter Username\n",
      "Academic license - for non-commercial use only - expires 2023-08-19\n",
      "Set parameter Username\n",
      "Academic license - for non-commercial use only - expires 2023-08-19\n",
      "Set parameter Username\n",
      "Academic license - for non-commercial use only - expires 2023-08-19\n"
     ]
    },
    {
     "data": {
      "text/plain": [
       "0.9"
      ]
     },
     "execution_count": 31,
     "metadata": {},
     "output_type": "execute_result"
    }
   ],
   "source": [
    "#Not normalized\n",
    "find_best_lambda(X_train_wind_norm,y_train_wind_norm, X_valid_wind_norm, y_valid_wind_norm)"
   ]
  },
  {
   "cell_type": "markdown",
   "metadata": {},
   "source": [
    "#### EVALUATION "
   ]
  },
  {
   "cell_type": "code",
   "execution_count": 32,
   "metadata": {},
   "outputs": [
    {
     "name": "stdout",
     "output_type": "stream",
     "text": [
      "Set parameter Username\n",
      "Academic license - for non-commercial use only - expires 2023-08-19\n"
     ]
    }
   ],
   "source": [
    "#Not normalized\n",
    "beta_lasso=ridge(X_train_wind,y_train_wind, 0.6);"
   ]
  },
  {
   "cell_type": "code",
   "execution_count": 33,
   "metadata": {},
   "outputs": [
    {
     "name": "stdout",
     "output_type": "stream",
     "text": [
      "MSE: 1.2917186508849436e7\n",
      "MAE: 2605.6402423288923\n",
      "R2: -0.38130277282271874\n"
     ]
    }
   ],
   "source": [
    "println(\"MSE: \", mse(y_valid_wind, X_valid_wind*beta_lasso))\n",
    "println(\"MAE: \", mae(y_valid_wind, X_valid_wind*beta_lasso))\n",
    "println(\"R2: \", r2_score(y_valid_wind, X_valid_wind*beta_lasso))"
   ]
  },
  {
   "cell_type": "code",
   "execution_count": 34,
   "metadata": {},
   "outputs": [
    {
     "name": "stdout",
     "output_type": "stream",
     "text": [
      "Set parameter Username\n",
      "Academic license - for non-commercial use only - expires 2023-08-19\n"
     ]
    }
   ],
   "source": [
    "#X normalized\n",
    "beta_lasso=ridge(X_train_wind_norm,y_train_wind, 0.9);"
   ]
  },
  {
   "cell_type": "code",
   "execution_count": 35,
   "metadata": {},
   "outputs": [
    {
     "name": "stdout",
     "output_type": "stream",
     "text": [
      "MSE: 1.3318411082901742e8\n",
      "MAE: 9273.380899916401\n",
      "R2: -1.568219509204742\n"
     ]
    }
   ],
   "source": [
    "println(\"MSE: \", mse(y_valid_wind, X_valid_wind_norm*beta_lasso))\n",
    "println(\"MAE: \", mae(y_valid_wind, X_valid_wind_norm*beta_lasso))\n",
    "println(\"R2: \", r2_score(y_valid_wind, X_valid_wind_norm*beta_lasso))"
   ]
  },
  {
   "cell_type": "code",
   "execution_count": 36,
   "metadata": {},
   "outputs": [
    {
     "name": "stdout",
     "output_type": "stream",
     "text": [
      "Set parameter Username\n",
      "Academic license - for non-commercial use only - expires 2023-08-19\n"
     ]
    }
   ],
   "source": [
    "#X,y normalized\n",
    "beta_lasso=ridge(X_train_wind_norm,y_train_wind_norm, 0.9);"
   ]
  },
  {
   "cell_type": "code",
   "execution_count": 37,
   "metadata": {},
   "outputs": [
    {
     "name": "stdout",
     "output_type": "stream",
     "text": [
      "MSE: 0.0863312002625231\n",
      "MAE: 0.2159258274030461\n",
      "R2: -0.2947390841997417\n"
     ]
    }
   ],
   "source": [
    "println(\"MSE: \", mse(y_valid_wind_norm, X_valid_wind_norm*beta_lasso))\n",
    "println(\"MAE: \", mae(y_valid_wind_norm, X_valid_wind_norm*beta_lasso))\n",
    "println(\"R2: \", r2_score(y_valid_wind_norm, X_valid_wind_norm*beta_lasso))"
   ]
  }
 ],
 "metadata": {
  "kernelspec": {
   "display_name": "Julia 1.8.2",
   "language": "julia",
   "name": "julia-1.8"
  },
  "language_info": {
   "file_extension": ".jl",
   "mimetype": "application/julia",
   "name": "julia",
   "version": "1.8.2"
  },
  "orig_nbformat": 4,
  "vscode": {
   "interpreter": {
    "hash": "31f2aee4e71d21fbe5cf8b01ff0e069b9275f58929596ceb00d14d90e3e16cd6"
   }
  }
 },
 "nbformat": 4,
 "nbformat_minor": 2
}
