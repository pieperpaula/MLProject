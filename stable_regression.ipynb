{
 "cells": [
  {
   "cell_type": "code",
   "execution_count": 6,
   "metadata": {},
   "outputs": [],
   "source": [
    "using CSV, Tables, LinearAlgebra, Random, Gurobi, JuMP, DataFrames"
   ]
  },
  {
   "cell_type": "code",
   "execution_count": 66,
   "metadata": {},
   "outputs": [],
   "source": [
    "#Part d\n",
    "function stable_regression(X, y, k)\n",
    "    m = Model(Gurobi.Optimizer)\n",
    "    set_optimizer_attribute(m, \"OutputFlag\", 0)\n",
    "    \n",
    "    n, p = size(X)\n",
    "    \n",
    "    @variable(m, B[1:p])\n",
    "    @variable(m, u[1:n])\n",
    "    @variable(m, θ)\n",
    "    println(typeof(B))\n",
    "    println(typeof(u))\n",
    "    println(typeof(y))\n",
    "    println(typeof(X))\n",
    "    @constraint(m, u .+ θ .>= (y - X*B).^2)\n",
    "    @constraint(m, u .>= 0)\n",
    "    @objective(m, Min, k*θ + sum(u))\n",
    "\n",
    "    optimize!(m)\n",
    "    return value.(B)\n",
    "end;"
   ]
  },
  {
   "cell_type": "code",
   "execution_count": 62,
   "metadata": {},
   "outputs": [],
   "source": [
    "data = CSV.File(\"final_data.csv\", header=true) |> Tables.matrix;\n"
   ]
  },
  {
   "cell_type": "code",
   "execution_count": 63,
   "metadata": {},
   "outputs": [],
   "source": [
    "y_solar = data[:,11];\n",
    "X = data[:,13:38];\n",
    "y_wind = data[:,12];\n"
   ]
  },
  {
   "cell_type": "code",
   "execution_count": 55,
   "metadata": {},
   "outputs": [
    {
     "data": {
      "text/plain": [
       "(8759, 26)"
      ]
     },
     "execution_count": 55,
     "metadata": {},
     "output_type": "execute_result"
    }
   ],
   "source": [
    "n,p = size(X)"
   ]
  },
  {
   "cell_type": "code",
   "execution_count": 35,
   "metadata": {},
   "outputs": [],
   "source": [
    "k = [4380,4818,5255,5693,6131,6569,7007,7445,7883,8321]\n",
    "\n",
    "MSE_best, λ_best = Inf, Inf\n",
    "for k in [4380,4818,5255,5693,6131,6569,7007,7445,7883,8321]\n",
    "    X_train = Matrix(X[1:k,:])\n",
    "    y_train = y_solar[1:k]\n",
    "    X_valid = Matrix(X[k:n,:])\n",
    "    y_valid = y_solar[k:n]\n",
    "\n",
    "    β_temp = stable_regression(X_train, y_train, k)\n",
    "    # MSE_temp = MSE(y_valid, X_valid*β_temp)\n",
    "    # if MSE_temp < MSE_best\n",
    "    #     MSE_best = MSE_temp\n",
    "    #     k_best = k \n",
    "    # end\n",
    "end\n"
   ]
  },
  {
   "cell_type": "code",
   "execution_count": 30,
   "metadata": {},
   "outputs": [],
   "source": [
    "function MSE(y, pred) \n",
    "    return sum((y-pred).^2)/length(y)\n",
    "end;"
   ]
  },
  {
   "cell_type": "code",
   "execution_count": 67,
   "metadata": {},
   "outputs": [
    {
     "name": "stdout",
     "output_type": "stream",
     "text": [
      "Set parameter Username\n",
      "Academic license - for non-commercial use only - expires 2023-08-18\n",
      "Vector{VariableRef}\n",
      "Vector{VariableRef}\n",
      "Vector{Any}\n",
      "Matrix{Any}\n"
     ]
    },
    {
     "ename": "LoadError",
     "evalue": "MethodError: no method matching *(::String, ::VariableRef)\n\u001b[0mClosest candidates are:\n\u001b[0m  *(::Any, ::Any, \u001b[91m::Any\u001b[39m, \u001b[91m::Any...\u001b[39m) at operators.jl:591\n\u001b[0m  *(::Union{AbstractChar, AbstractString}, \u001b[91m::Union{AbstractChar, AbstractString}...\u001b[39m) at strings/basic.jl:260\n\u001b[0m  *(::Union{AbstractChar, AbstractString}, \u001b[91m::Missing\u001b[39m) at missing.jl:183\n\u001b[0m  ...",
     "output_type": "error",
     "traceback": [
      "MethodError: no method matching *(::String, ::VariableRef)\n\u001b[0mClosest candidates are:\n\u001b[0m  *(::Any, ::Any, \u001b[91m::Any\u001b[39m, \u001b[91m::Any...\u001b[39m) at operators.jl:591\n\u001b[0m  *(::Union{AbstractChar, AbstractString}, \u001b[91m::Union{AbstractChar, AbstractString}...\u001b[39m) at strings/basic.jl:260\n\u001b[0m  *(::Union{AbstractChar, AbstractString}, \u001b[91m::Missing\u001b[39m) at missing.jl:183\n\u001b[0m  ...",
      "",
      "Stacktrace:",
      "  [1] generic_matvecmul!(C::Vector{Any}, tA::Char, A::Matrix{Any}, B::Vector{VariableRef}, _add::LinearAlgebra.MulAddMul{true, true, Bool, Bool})",
      "    @ LinearAlgebra /Applications/Julia-1.8.app/Contents/Resources/julia/share/julia/stdlib/v1.8/LinearAlgebra/src/matmul.jl:812",
      "  [2] mul!",
      "    @ /Applications/Julia-1.8.app/Contents/Resources/julia/share/julia/stdlib/v1.8/LinearAlgebra/src/matmul.jl:81 [inlined]",
      "  [3] mul!",
      "    @ /Applications/Julia-1.8.app/Contents/Resources/julia/share/julia/stdlib/v1.8/LinearAlgebra/src/matmul.jl:276 [inlined]",
      "  [4] *",
      "    @ /Applications/Julia-1.8.app/Contents/Resources/julia/share/julia/stdlib/v1.8/LinearAlgebra/src/matmul.jl:56 [inlined]",
      "  [5] macro expansion",
      "    @ /Users/iai/builds/e7x1Q22r/0/InterpretableAI/SystemImage/SysImgBuilder/.julia/packages/MutableArithmetics/Lnlkl/src/rewrite.jl:294 [inlined]",
      "  [6] macro expansion",
      "    @ /Users/iai/builds/e7x1Q22r/0/InterpretableAI/SystemImage/SysImgBuilder/.julia/packages/JuMP/60Bnj/src/macros.jl:823 [inlined]",
      "  [7] stable_regression(X::Matrix{Any}, y::Vector{Any}, k::Int64)",
      "    @ Main ./In[66]:15",
      "  [8] top-level scope",
      "    @ In[67]:1",
      "  [9] eval",
      "    @ ./boot.jl:368 [inlined]",
      " [10] include_string(mapexpr::typeof(REPL.softscope), mod::Module, code::String, filename::String)",
      "    @ Base ./loading.jl:1428"
     ]
    }
   ],
   "source": [
    "stable_regression(X,y_solar, 8000)"
   ]
  },
  {
   "cell_type": "code",
   "execution_count": 68,
   "metadata": {},
   "outputs": [
    {
     "data": {
      "text/plain": [
       "8759×26 Matrix{Any}:\n",
       " 32.4  29.7  24.0  70.72  0.0  0  0.0   0.39  …  0  0  1  0  0  6  1  0  0  0\n",
       " 32.5  32.5  24.1  70.76  0.0  0  0.0   0.34     0  1  0  0  0  6  1  0  0  0\n",
       " 31.6  28.3  24.2  73.84  0.0  0  0.0   0.3      0  1  0  0  0  6  1  0  0  0\n",
       " 31.6  26.8  25.1  76.66  0.0  0  0.0   0.25     0  1  0  0  0  6  1  0  0  0\n",
       " 31.8  27.2  25.2  76.31  0.0  0  0.0   0.2      0  1  0  0  0  6  1  0  0  0\n",
       " 29.5  23.6  24.1  79.99  0.0  0  0.0   0.15  …  0  0  1  0  0  6  1  0  0  0\n",
       " 29.7  23.9  23.2  76.63  0.0  0  0.0   0.1      0  0  1  0  0  6  1  0  0  0\n",
       " 28.9  22.9  21.3  72.8   0.0  0  0.0   0.05     0  0  1  0  0  6  1  0  0  0\n",
       " 28.1  24.7  21.0  74.55  0.0  0  0.0   0.0      0  0  1  0  0  7  1  0  0  0\n",
       " 28.8  22.7  21.2  72.71  0.0  0  2.35  2.35     0  0  0  0  1  7  1  0  0  0\n",
       " 30.7  23.1  22.1  69.99  0.0  0  0.0   2.33  …  0  0  1  0  0  7  1  0  0  0\n",
       " 31.9  24.0  22.1  66.79  0.0  0  0.0   2.31     0  1  0  0  0  7  1  0  0  0\n",
       " 33.0  23.8  21.3  61.67  0.0  0  0.0   2.3      0  1  0  0  0  7  1  0  0  0\n",
       "  ⋮                            ⋮              ⋱              ⋮              ⋮\n",
       " 47.0  42.2  43.0  85.86  0.0  0  0.05  0.2      0  0  0  0  1  7  1  0  0  0\n",
       " 47.1  43.6  43.8  88.44  0.0  0  0.05  0.25     0  0  0  0  1  7  1  0  0  0\n",
       " 47.1  41.5  42.1  82.72  0.0  0  0.05  0.3      0  0  0  0  1  7  1  0  0  0\n",
       " 47.0  41.5  40.9  79.12  0.0  0  0.05  0.34  …  0  0  0  0  1  7  1  0  0  0\n",
       " 45.0  40.6  39.6  81.42  0.0  0  0.05  0.39     0  0  0  0  1  7  1  0  0  0\n",
       " 42.2  39.4  38.7  87.27  0.0  0  0.05  0.44     0  0  0  0  1  7  1  0  0  0\n",
       " 41.9  39.8  38.5  87.86  0.0  0  0.05  0.49     0  0  0  0  1  6  1  0  0  0\n",
       " 38.9  35.3  36.9  92.52  0.0  0  0.05  0.54     0  0  0  0  1  4  1  0  0  0\n",
       " 39.6  34.8  37.0  90.32  0.0  0  0.05  0.59  …  0  0  0  0  1  5  1  0  0  0\n",
       " 38.5  35.0  35.7  89.46  0.0  0  0.05  0.64     0  0  0  0  1  6  1  0  0  0\n",
       " 39.8  36.2  37.1  90.19  0.0  0  0.05  0.69     0  0  0  0  1  6  1  0  0  0\n",
       " 39.0  34.8  37.2  93.29  0.0  0  0.05  0.74     0  0  0  0  1  6  1  0  0  0"
      ]
     },
     "execution_count": 68,
     "metadata": {},
     "output_type": "execute_result"
    }
   ],
   "source": [
    "X"
   ]
  },
  {
   "cell_type": "code",
   "execution_count": null,
   "metadata": {},
   "outputs": [],
   "source": []
  }
 ],
 "metadata": {
  "kernelspec": {
   "display_name": "Julia 1.8.0",
   "language": "julia",
   "name": "julia-1.8"
  },
  "language_info": {
   "file_extension": ".jl",
   "mimetype": "application/julia",
   "name": "julia",
   "version": "1.8.2"
  },
  "orig_nbformat": 4
 },
 "nbformat": 4,
 "nbformat_minor": 2
}
