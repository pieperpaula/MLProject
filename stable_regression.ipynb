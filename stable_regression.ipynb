{
 "cells": [
  {
   "cell_type": "code",
   "execution_count": 1,
   "metadata": {},
   "outputs": [],
   "source": [
    "using CSV, Tables, LinearAlgebra, Random, Gurobi, JuMP, DataFrames"
   ]
  },
  {
   "cell_type": "code",
   "execution_count": 2,
   "metadata": {},
   "outputs": [],
   "source": [
    "df = DataFrame(CSV.File(\"final_data.csv\"));"
   ]
  },
  {
   "cell_type": "code",
   "execution_count": 3,
   "metadata": {},
   "outputs": [],
   "source": [
    "data = CSV.File(\"final_data.csv\", header=true) |> Tables.matrix;"
   ]
  },
  {
   "cell_type": "code",
   "execution_count": 4,
   "metadata": {},
   "outputs": [],
   "source": [
    "#Part d\n",
    "function stable_regression(X, y, k)\n",
    "    m = Model(Gurobi.Optimizer)\n",
    "    set_optimizer_attribute(m, \"OutputFlag\", 0)\n",
    "    \n",
    "    n, p = size(X)\n",
    "    \n",
    "    @variable(m, B[1:p])\n",
    "    @variable(m, u[1:n])\n",
    "    @variable(m, θ)\n",
    "    #println(typeof(B))\n",
    "    #println(typeof(u))\n",
    "    #println(typeof(y))\n",
    "    #println(typeof(X))\n",
    "    @constraint(m, u .+ θ .>= (y - X*B).^2)\n",
    "    @constraint(m, u .>= 0)\n",
    "    @objective(m, Min, k*θ + sum(u))\n",
    "\n",
    "    optimize!(m)\n",
    "    return value.(B)\n",
    "end;"
   ]
  },
  {
   "cell_type": "code",
   "execution_count": 5,
   "metadata": {},
   "outputs": [],
   "source": [
    "y_solar = data[:,11];\n",
    "X = data[:,13:38];\n",
    "y_wind = data[:,12];\n"
   ]
  },
  {
   "cell_type": "code",
   "execution_count": 6,
   "metadata": {},
   "outputs": [],
   "source": [
    "function MSE(y, pred) \n",
    "    return sum((y-pred).^2)/length(y)\n",
    "end;"
   ]
  },
  {
   "cell_type": "markdown",
   "metadata": {},
   "source": [
    "### SOLAR: BEST SPLIT\n",
    "60% TRAIN 40% VALIDATION"
   ]
  },
  {
   "cell_type": "markdown",
   "metadata": {},
   "source": [
    "**We pick the split with the worst MSE in stable regression**"
   ]
  },
  {
   "cell_type": "code",
   "execution_count": 7,
   "metadata": {},
   "outputs": [
    {
     "name": "stdout",
     "output_type": "stream",
     "text": [
      "Set parameter Username\n",
      "Academic license - for non-commercial use only - expires 2023-08-18\n",
      "Set parameter Username\n",
      "Academic license - for non-commercial use only - expires 2023-08-18\n",
      "Set parameter Username\n",
      "Academic license - for non-commercial use only - expires 2023-08-18\n",
      "Set parameter Username\n",
      "Academic license - for non-commercial use only - expires 2023-08-18\n",
      "Set parameter Username\n",
      "Academic license - for non-commercial use only - expires 2023-08-18\n",
      "Set parameter Username\n",
      "Academic license - for non-commercial use only - expires 2023-08-18\n",
      "Set parameter Username\n",
      "Academic license - for non-commercial use only - expires 2023-08-18\n",
      "Set parameter Username\n",
      "Academic license - for non-commercial use only - expires 2023-08-18\n",
      "Set parameter Username\n",
      "Academic license - for non-commercial use only - expires 2023-08-18\n"
     ]
    }
   ],
   "source": [
    "n,p = size(X)\n",
    "MSE_best_solar, k_best_solar = 0, 0\n",
    "best_beta_solar = zeros()\n",
    "X_train_best, X_valid_best, y_train_best, y_valid_best = nothing, nothing, nothing, nothing\n",
    "for k in [4380,4818,5255,5693,6131,6569,7007,7445,7883] #we look for the best split of the data\n",
    "    X_train = Matrix(X[1:k,:])\n",
    "    y_train = y_solar[1:k]\n",
    "    X_valid = Matrix(X[k+1:n,:])\n",
    "    y_valid = y_solar[k+1:n]\n",
    "\n",
    "    β_temp = stable_regression(X_train, y_train, k)\n",
    "    MSE_temp = MSE(y_valid, X_valid*β_temp)\n",
    "    if MSE_temp >= MSE_best_solar\n",
    "        MSE_best_solar = MSE_temp\n",
    "        k_best_solar = k \n",
    "        best_beta_solar = β_temp\n",
    "        X_train_best = X_train\n",
    "        X_valid_best = X_valid\n",
    "        y_train_best = y_train\n",
    "        y_valid_best = y_valid\n",
    "    end\n",
    "end\n"
   ]
  },
  {
   "cell_type": "code",
   "execution_count": 8,
   "metadata": {},
   "outputs": [
    {
     "data": {
      "text/plain": [
       "5255"
      ]
     },
     "execution_count": 8,
     "metadata": {},
     "output_type": "execute_result"
    }
   ],
   "source": [
    "k_best_solar #best split is 60% training and 40% validation"
   ]
  },
  {
   "cell_type": "code",
   "execution_count": 9,
   "metadata": {},
   "outputs": [
    {
     "data": {
      "text/plain": [
       "93810.12380398327"
      ]
     },
     "execution_count": 9,
     "metadata": {},
     "output_type": "execute_result"
    }
   ],
   "source": [
    "MSE_best_solar"
   ]
  },
  {
   "cell_type": "markdown",
   "metadata": {},
   "source": [
    "##### Pulling out the indices with the worst residuals to determine the training data"
   ]
  },
  {
   "cell_type": "code",
   "execution_count": 10,
   "metadata": {},
   "outputs": [],
   "source": [
    "solar_residuals = (y_solar.-X*best_beta_solar).^2;\n",
    "solar_sorted_resid = sort(solar_residuals, rev = true);"
   ]
  },
  {
   "cell_type": "code",
   "execution_count": 11,
   "metadata": {},
   "outputs": [],
   "source": [
    "train_indices = []\n",
    "test_indices = []\n",
    "for ind = 1:8759\n",
    "    if solar_residuals[ind] in solar_sorted_resid[1:5255]\n",
    "        push!(train_indices,ind)\n",
    "    else\n",
    "        push!(test_indices,ind)\n",
    "    end \n",
    "end\n",
    "\n"
   ]
  },
  {
   "cell_type": "code",
   "execution_count": 12,
   "metadata": {},
   "outputs": [],
   "source": [
    "X_best_solar = zeros(5255,26)\n",
    "y_best_solar = zeros(5255)\n",
    "for numb =1:5255\n",
    "    X_best_solar[numb,:] = X[train_indices[numb],:]\n",
    "    y_best_solar[numb] = y_solar[train_indices[numb]]\n",
    "end"
   ]
  },
  {
   "cell_type": "code",
   "execution_count": 13,
   "metadata": {},
   "outputs": [],
   "source": [
    "X_valid_solar = zeros(3504,26)\n",
    "y_valid_solar = zeros(3504)\n",
    "for numb =1:3504\n",
    "    X_valid_solar[numb,:] = X[test_indices[numb],:]\n",
    "    y_valid_solar[numb] = y_solar[test_indices[numb]]\n",
    "end"
   ]
  },
  {
   "cell_type": "code",
   "execution_count": 14,
   "metadata": {},
   "outputs": [],
   "source": [
    "X_train_solar = X_best_solar\n",
    "X_valid_solar = X_valid_solar\n",
    "y_train_solar = y_best_solar\n",
    "y_valid_solar = y_valid_solar;"
   ]
  },
  {
   "cell_type": "code",
   "execution_count": 15,
   "metadata": {},
   "outputs": [],
   "source": [
    "#transform back to dataframe to understand the coefficients\n",
    "X_train_solar_df=DataFrame(X_train_solar, :auto)\n",
    "X_valid_solar_df=DataFrame(X_valid_solar, :auto)\n",
    "#rename columns with list of values\n",
    "rename!(X_train_solar_df, names(df[:, 13:38]))\n",
    "rename!(X_valid_solar_df, names(df[:, 13:38]))\n",
    "\n",
    "#transform vector into dataframe \n",
    "y_train_solar=DataFrame(Solar_Gen_MW = y_train_solar)\n",
    "y_valid_solar=DataFrame(Solar_Gen_MW = y_valid_solar)\n",
    "#save as CSV\n",
    "CSV.write(\"X_train_solar.csv\", X_train_solar_df)\n",
    "CSV.write(\"X_valid_solar.csv\", X_valid_solar_df)\n",
    "CSV.write(\"y_train_solar.csv\", y_train_solar)\n",
    "CSV.write(\"y_valid_solar.csv\", y_valid_solar);"
   ]
  },
  {
   "cell_type": "code",
   "execution_count": 17,
   "metadata": {},
   "outputs": [
    {
     "data": {
      "text/html": [
       "<div class=\"data-frame\"><p>60 rows × 26 columns (omitted printing of 18 columns)</p><table class=\"data-frame\"><thead><tr><th></th><th>temp</th><th>feelslike</th><th>dew</th><th>humidity</th><th>precip</th><th>precipprob</th><th>snow</th><th>snowdepth</th></tr><tr><th></th><th title=\"Float64\">Float64</th><th title=\"Float64\">Float64</th><th title=\"Float64\">Float64</th><th title=\"Float64\">Float64</th><th title=\"Float64\">Float64</th><th title=\"Float64\">Float64</th><th title=\"Float64\">Float64</th><th title=\"Float64\">Float64</th></tr></thead><tbody><tr><th>1</th><td>52.1</td><td>52.1</td><td>48.8</td><td>88.62</td><td>0.0</td><td>0.0</td><td>0.0</td><td>0.0</td></tr><tr><th>2</th><td>53.1</td><td>53.1</td><td>50.0</td><td>89.08</td><td>0.0</td><td>0.0</td><td>0.0</td><td>0.0</td></tr><tr><th>3</th><td>57.0</td><td>57.0</td><td>51.5</td><td>81.89</td><td>0.0</td><td>0.0</td><td>0.0</td><td>0.0</td></tr><tr><th>4</th><td>62.1</td><td>62.1</td><td>52.3</td><td>70.28</td><td>0.0</td><td>0.0</td><td>0.0</td><td>0.0</td></tr><tr><th>5</th><td>64.9</td><td>64.9</td><td>51.9</td><td>62.84</td><td>0.0</td><td>0.0</td><td>0.0</td><td>0.0</td></tr><tr><th>6</th><td>65.9</td><td>65.9</td><td>50.1</td><td>56.68</td><td>0.0</td><td>0.0</td><td>0.0</td><td>0.0</td></tr><tr><th>7</th><td>71.8</td><td>71.8</td><td>47.5</td><td>42.07</td><td>0.0</td><td>0.0</td><td>0.0</td><td>0.0</td></tr><tr><th>8</th><td>71.2</td><td>71.2</td><td>52.8</td><td>52.24</td><td>0.0</td><td>0.0</td><td>0.0</td><td>0.0</td></tr><tr><th>9</th><td>69.9</td><td>69.9</td><td>50.0</td><td>49.22</td><td>0.0</td><td>0.0</td><td>0.0</td><td>0.0</td></tr><tr><th>10</th><td>69.1</td><td>69.1</td><td>52.2</td><td>54.78</td><td>0.0</td><td>0.0</td><td>0.0</td><td>0.0</td></tr><tr><th>11</th><td>69.0</td><td>69.0</td><td>54.0</td><td>58.8</td><td>0.0</td><td>0.0</td><td>0.0</td><td>0.0</td></tr><tr><th>12</th><td>69.0</td><td>69.0</td><td>55.1</td><td>61.3</td><td>0.0</td><td>0.0</td><td>0.0</td><td>0.0</td></tr><tr><th>13</th><td>67.9</td><td>67.9</td><td>56.1</td><td>65.87</td><td>0.0</td><td>0.0</td><td>0.0</td><td>0.0</td></tr><tr><th>14</th><td>67.7</td><td>67.7</td><td>57.0</td><td>68.55</td><td>0.0</td><td>0.0</td><td>0.0</td><td>0.0</td></tr><tr><th>15</th><td>65.9</td><td>65.9</td><td>56.2</td><td>70.9</td><td>0.0</td><td>0.0</td><td>0.0</td><td>0.0</td></tr><tr><th>16</th><td>72.5</td><td>72.5</td><td>59.1</td><td>62.66</td><td>0.0</td><td>0.0</td><td>0.0</td><td>0.0</td></tr><tr><th>17</th><td>70.6</td><td>70.6</td><td>58.9</td><td>66.64</td><td>0.0</td><td>0.0</td><td>0.0</td><td>0.0</td></tr><tr><th>18</th><td>69.6</td><td>69.6</td><td>60.1</td><td>71.84</td><td>0.0</td><td>0.0</td><td>0.0</td><td>0.0</td></tr><tr><th>19</th><td>68.8</td><td>68.8</td><td>58.9</td><td>70.61</td><td>0.0</td><td>0.0</td><td>0.0</td><td>0.0</td></tr><tr><th>20</th><td>66.9</td><td>66.9</td><td>60.1</td><td>78.68</td><td>0.0</td><td>0.0</td><td>0.0</td><td>0.0</td></tr><tr><th>21</th><td>65.7</td><td>65.7</td><td>60.0</td><td>81.83</td><td>0.0</td><td>0.0</td><td>0.0</td><td>0.0</td></tr><tr><th>22</th><td>65.8</td><td>65.8</td><td>60.2</td><td>82.01</td><td>0.0</td><td>0.0</td><td>0.0</td><td>0.0</td></tr><tr><th>23</th><td>65.0</td><td>65.0</td><td>60.9</td><td>86.54</td><td>0.0</td><td>0.0</td><td>0.0</td><td>0.0</td></tr><tr><th>24</th><td>66.9</td><td>66.9</td><td>61.1</td><td>81.43</td><td>0.0</td><td>0.0</td><td>0.0</td><td>0.0</td></tr><tr><th>25</th><td>71.1</td><td>71.1</td><td>62.1</td><td>73.38</td><td>0.0</td><td>0.0</td><td>0.0</td><td>0.0</td></tr><tr><th>26</th><td>74.0</td><td>74.0</td><td>60.2</td><td>62.07</td><td>0.0</td><td>0.0</td><td>0.0</td><td>0.0</td></tr><tr><th>27</th><td>75.6</td><td>75.6</td><td>61.7</td><td>61.92</td><td>0.0</td><td>0.0</td><td>0.0</td><td>0.0</td></tr><tr><th>28</th><td>77.9</td><td>77.9</td><td>61.6</td><td>57.27</td><td>0.0</td><td>0.0</td><td>0.0</td><td>0.0</td></tr><tr><th>29</th><td>78.9</td><td>78.9</td><td>56.8</td><td>46.7</td><td>0.0</td><td>0.0</td><td>0.0</td><td>0.0</td></tr><tr><th>30</th><td>78.1</td><td>78.1</td><td>55.1</td><td>45.16</td><td>0.0</td><td>0.0</td><td>0.0</td><td>0.0</td></tr><tr><th>&vellip;</th><td>&vellip;</td><td>&vellip;</td><td>&vellip;</td><td>&vellip;</td><td>&vellip;</td><td>&vellip;</td><td>&vellip;</td><td>&vellip;</td></tr></tbody></table></div>"
      ],
      "text/latex": [
       "\\begin{tabular}{r|ccccccccc}\n",
       "\t& temp & feelslike & dew & humidity & precip & precipprob & snow & snowdepth & \\\\\n",
       "\t\\hline\n",
       "\t& Float64 & Float64 & Float64 & Float64 & Float64 & Float64 & Float64 & Float64 & \\\\\n",
       "\t\\hline\n",
       "\t1 & 52.1 & 52.1 & 48.8 & 88.62 & 0.0 & 0.0 & 0.0 & 0.0 & $\\dots$ \\\\\n",
       "\t2 & 53.1 & 53.1 & 50.0 & 89.08 & 0.0 & 0.0 & 0.0 & 0.0 & $\\dots$ \\\\\n",
       "\t3 & 57.0 & 57.0 & 51.5 & 81.89 & 0.0 & 0.0 & 0.0 & 0.0 & $\\dots$ \\\\\n",
       "\t4 & 62.1 & 62.1 & 52.3 & 70.28 & 0.0 & 0.0 & 0.0 & 0.0 & $\\dots$ \\\\\n",
       "\t5 & 64.9 & 64.9 & 51.9 & 62.84 & 0.0 & 0.0 & 0.0 & 0.0 & $\\dots$ \\\\\n",
       "\t6 & 65.9 & 65.9 & 50.1 & 56.68 & 0.0 & 0.0 & 0.0 & 0.0 & $\\dots$ \\\\\n",
       "\t7 & 71.8 & 71.8 & 47.5 & 42.07 & 0.0 & 0.0 & 0.0 & 0.0 & $\\dots$ \\\\\n",
       "\t8 & 71.2 & 71.2 & 52.8 & 52.24 & 0.0 & 0.0 & 0.0 & 0.0 & $\\dots$ \\\\\n",
       "\t9 & 69.9 & 69.9 & 50.0 & 49.22 & 0.0 & 0.0 & 0.0 & 0.0 & $\\dots$ \\\\\n",
       "\t10 & 69.1 & 69.1 & 52.2 & 54.78 & 0.0 & 0.0 & 0.0 & 0.0 & $\\dots$ \\\\\n",
       "\t11 & 69.0 & 69.0 & 54.0 & 58.8 & 0.0 & 0.0 & 0.0 & 0.0 & $\\dots$ \\\\\n",
       "\t12 & 69.0 & 69.0 & 55.1 & 61.3 & 0.0 & 0.0 & 0.0 & 0.0 & $\\dots$ \\\\\n",
       "\t13 & 67.9 & 67.9 & 56.1 & 65.87 & 0.0 & 0.0 & 0.0 & 0.0 & $\\dots$ \\\\\n",
       "\t14 & 67.7 & 67.7 & 57.0 & 68.55 & 0.0 & 0.0 & 0.0 & 0.0 & $\\dots$ \\\\\n",
       "\t15 & 65.9 & 65.9 & 56.2 & 70.9 & 0.0 & 0.0 & 0.0 & 0.0 & $\\dots$ \\\\\n",
       "\t16 & 72.5 & 72.5 & 59.1 & 62.66 & 0.0 & 0.0 & 0.0 & 0.0 & $\\dots$ \\\\\n",
       "\t17 & 70.6 & 70.6 & 58.9 & 66.64 & 0.0 & 0.0 & 0.0 & 0.0 & $\\dots$ \\\\\n",
       "\t18 & 69.6 & 69.6 & 60.1 & 71.84 & 0.0 & 0.0 & 0.0 & 0.0 & $\\dots$ \\\\\n",
       "\t19 & 68.8 & 68.8 & 58.9 & 70.61 & 0.0 & 0.0 & 0.0 & 0.0 & $\\dots$ \\\\\n",
       "\t20 & 66.9 & 66.9 & 60.1 & 78.68 & 0.0 & 0.0 & 0.0 & 0.0 & $\\dots$ \\\\\n",
       "\t21 & 65.7 & 65.7 & 60.0 & 81.83 & 0.0 & 0.0 & 0.0 & 0.0 & $\\dots$ \\\\\n",
       "\t22 & 65.8 & 65.8 & 60.2 & 82.01 & 0.0 & 0.0 & 0.0 & 0.0 & $\\dots$ \\\\\n",
       "\t23 & 65.0 & 65.0 & 60.9 & 86.54 & 0.0 & 0.0 & 0.0 & 0.0 & $\\dots$ \\\\\n",
       "\t24 & 66.9 & 66.9 & 61.1 & 81.43 & 0.0 & 0.0 & 0.0 & 0.0 & $\\dots$ \\\\\n",
       "\t25 & 71.1 & 71.1 & 62.1 & 73.38 & 0.0 & 0.0 & 0.0 & 0.0 & $\\dots$ \\\\\n",
       "\t26 & 74.0 & 74.0 & 60.2 & 62.07 & 0.0 & 0.0 & 0.0 & 0.0 & $\\dots$ \\\\\n",
       "\t27 & 75.6 & 75.6 & 61.7 & 61.92 & 0.0 & 0.0 & 0.0 & 0.0 & $\\dots$ \\\\\n",
       "\t28 & 77.9 & 77.9 & 61.6 & 57.27 & 0.0 & 0.0 & 0.0 & 0.0 & $\\dots$ \\\\\n",
       "\t29 & 78.9 & 78.9 & 56.8 & 46.7 & 0.0 & 0.0 & 0.0 & 0.0 & $\\dots$ \\\\\n",
       "\t30 & 78.1 & 78.1 & 55.1 & 45.16 & 0.0 & 0.0 & 0.0 & 0.0 & $\\dots$ \\\\\n",
       "\t$\\dots$ & $\\dots$ & $\\dots$ & $\\dots$ & $\\dots$ & $\\dots$ & $\\dots$ & $\\dots$ & $\\dots$ &  \\\\\n",
       "\\end{tabular}\n"
      ],
      "text/plain": [
       "\u001b[1m60×26 DataFrame\u001b[0m\n",
       "\u001b[1m Row \u001b[0m│\u001b[1m temp    \u001b[0m\u001b[1m feelslike \u001b[0m\u001b[1m dew     \u001b[0m\u001b[1m humidity \u001b[0m\u001b[1m precip  \u001b[0m\u001b[1m precipprob \u001b[0m\u001b[1m snow    \u001b[0m\u001b[1m sn\u001b[0m ⋯\n",
       "\u001b[1m     \u001b[0m│\u001b[90m Float64 \u001b[0m\u001b[90m Float64   \u001b[0m\u001b[90m Float64 \u001b[0m\u001b[90m Float64  \u001b[0m\u001b[90m Float64 \u001b[0m\u001b[90m Float64    \u001b[0m\u001b[90m Float64 \u001b[0m\u001b[90m Fl\u001b[0m ⋯\n",
       "─────┼──────────────────────────────────────────────────────────────────────────\n",
       "   1 │    52.1       52.1     48.8     88.62      0.0         0.0     0.0      ⋯\n",
       "   2 │    53.1       53.1     50.0     89.08      0.0         0.0     0.0\n",
       "   3 │    57.0       57.0     51.5     81.89      0.0         0.0     0.0\n",
       "   4 │    62.1       62.1     52.3     70.28      0.0         0.0     0.0\n",
       "   5 │    64.9       64.9     51.9     62.84      0.0         0.0     0.0      ⋯\n",
       "   6 │    65.9       65.9     50.1     56.68      0.0         0.0     0.0\n",
       "   7 │    71.8       71.8     47.5     42.07      0.0         0.0     0.0\n",
       "   8 │    71.2       71.2     52.8     52.24      0.0         0.0     0.0\n",
       "   9 │    69.9       69.9     50.0     49.22      0.0         0.0     0.0      ⋯\n",
       "  10 │    69.1       69.1     52.2     54.78      0.0         0.0     0.0\n",
       "  11 │    69.0       69.0     54.0     58.8       0.0         0.0     0.0\n",
       "  ⋮  │    ⋮         ⋮         ⋮        ⋮         ⋮         ⋮          ⋮        ⋱\n",
       "  51 │    47.1       43.6     43.8     88.44      0.0         0.0     0.05\n",
       "  52 │    47.1       41.5     42.1     82.72      0.0         0.0     0.05     ⋯\n",
       "  53 │    47.0       41.5     40.9     79.12      0.0         0.0     0.05\n",
       "  54 │    45.0       40.6     39.6     81.42      0.0         0.0     0.05\n",
       "  55 │    42.2       39.4     38.7     87.27      0.0         0.0     0.05\n",
       "  56 │    41.9       39.8     38.5     87.86      0.0         0.0     0.05     ⋯\n",
       "  57 │    38.9       35.3     36.9     92.52      0.0         0.0     0.05\n",
       "  58 │    38.5       35.0     35.7     89.46      0.0         0.0     0.05\n",
       "  59 │    39.8       36.2     37.1     90.19      0.0         0.0     0.05\n",
       "  60 │    39.0       34.8     37.2     93.29      0.0         0.0     0.05     ⋯\n",
       "\u001b[36m                                                  19 columns and 39 rows omitted\u001b[0m"
      ]
     },
     "execution_count": 17,
     "metadata": {},
     "output_type": "execute_result"
    }
   ],
   "source": [
    "vcat(X_train_solar_df, X_valid_solar_df)[8700:8759,:]"
   ]
  },
  {
   "cell_type": "code",
   "execution_count": 18,
   "metadata": {},
   "outputs": [],
   "source": [
    "X_total_solar = vcat(X_train_solar_df, X_valid_solar_df)\n",
    "y_total_solar = vcat(y_train_solar,y_valid_solar);\n",
    "\n",
    "CSV.write(\"X_total_solar.csv\", X_total_solar)\n",
    "CSV.write(\"y_total_solar.csv\", y_total_solar);"
   ]
  },
  {
   "cell_type": "markdown",
   "metadata": {},
   "source": [
    "### WIND: BEST SPLIT \n",
    "70% TRAIN 30% VALIDATION"
   ]
  },
  {
   "cell_type": "code",
   "execution_count": 19,
   "metadata": {},
   "outputs": [
    {
     "name": "stdout",
     "output_type": "stream",
     "text": [
      "Set parameter Username\n",
      "Academic license - for non-commercial use only - expires 2023-08-18\n",
      "Set parameter Username\n",
      "Academic license - for non-commercial use only - expires 2023-08-18\n",
      "Set parameter Username\n",
      "Academic license - for non-commercial use only - expires 2023-08-18\n",
      "Set parameter Username\n",
      "Academic license - for non-commercial use only - expires 2023-08-18\n",
      "Set parameter Username\n",
      "Academic license - for non-commercial use only - expires 2023-08-18\n",
      "Set parameter Username\n",
      "Academic license - for non-commercial use only - expires 2023-08-18\n",
      "Set parameter Username\n",
      "Academic license - for non-commercial use only - expires 2023-08-18\n",
      "Set parameter Username\n",
      "Academic license - for non-commercial use only - expires 2023-08-18\n",
      "Set parameter Username\n",
      "Academic license - for non-commercial use only - expires 2023-08-18\n"
     ]
    }
   ],
   "source": [
    "n,p = size(X)\n",
    "MSE_best_wind, k_best_wind = 0, 0\n",
    "B_best_wind = zeros(26)\n",
    "X_train_best, X_valid_best, y_train_best, y_valid_best = nothing, nothing, nothing, nothing\n",
    "for k in [4380,4818,5255,5693,6131,6569,7007,7445,7883] #we look for the best split of the data\n",
    "    X_train = Matrix(X[1:k,:])\n",
    "    y_train = y_wind[1:k]\n",
    "    X_valid = Matrix(X[k:n,:])\n",
    "    y_valid = y_wind[k:n]\n",
    "\n",
    "    β_temp = stable_regression(X_train, y_train, k)\n",
    "    MSE_temp = MSE(y_valid, X_valid*β_temp)\n",
    "    if MSE_temp >= MSE_best_wind\n",
    "        MSE_best_wind = MSE_temp\n",
    "        k_best_wind = k \n",
    "        B_best_wind = β_temp\n",
    "        X_train_best = X_train\n",
    "        X_valid_best = X_valid\n",
    "        y_train_best = y_train\n",
    "        y_valid_best = y_valid\n",
    "    end\n",
    "end"
   ]
  },
  {
   "cell_type": "code",
   "execution_count": 20,
   "metadata": {},
   "outputs": [
    {
     "name": "stdout",
     "output_type": "stream",
     "text": [
      "6131\n",
      "1.4664152769031666e7\n"
     ]
    }
   ],
   "source": [
    "println(k_best_wind) #best split is 70% training and 30% validation\n",
    "println(MSE_best_wind)"
   ]
  },
  {
   "cell_type": "code",
   "execution_count": 21,
   "metadata": {},
   "outputs": [],
   "source": [
    "wind_residuals = (y_wind.-X*B_best_wind).^2;\n",
    "wind_sorted_resid = sort(wind_residuals, rev = true);"
   ]
  },
  {
   "cell_type": "code",
   "execution_count": 22,
   "metadata": {},
   "outputs": [],
   "source": [
    "wind_train_indices = []\n",
    "wind_test_indices = []\n",
    "for ind = 1:8759\n",
    "    if wind_residuals[ind] in wind_sorted_resid[1:6131]\n",
    "        push!(wind_train_indices,ind)\n",
    "    else\n",
    "        push!(wind_test_indices,ind)\n",
    "    end \n",
    "end\n"
   ]
  },
  {
   "cell_type": "code",
   "execution_count": 23,
   "metadata": {},
   "outputs": [],
   "source": [
    "X_best_wind= zeros(6131,26)\n",
    "y_best_wind= zeros(6131)\n",
    "for numb =1:6131\n",
    "    X_best_wind[numb,:] = X[wind_train_indices[numb],:]\n",
    "    y_best_wind[numb] = y_wind[wind_train_indices[numb]]\n",
    "end"
   ]
  },
  {
   "cell_type": "code",
   "execution_count": 24,
   "metadata": {},
   "outputs": [],
   "source": [
    "X_valid_wind = zeros(2628,26)\n",
    "y_valid_wind = zeros(2628)\n",
    "for numb =1:2628\n",
    "    X_valid_wind[numb,:] = X[wind_test_indices[numb],:]\n",
    "    y_valid_wind[numb] = y_solar[wind_test_indices[numb]]\n",
    "end"
   ]
  },
  {
   "cell_type": "code",
   "execution_count": 25,
   "metadata": {},
   "outputs": [],
   "source": [
    "X_train_wind = X_best_wind\n",
    "y_train_wind = y_best_wind\n",
    "X_valid_wind = X_valid_wind\n",
    "y_valid_wind = y_valid_wind;"
   ]
  },
  {
   "cell_type": "code",
   "execution_count": 26,
   "metadata": {},
   "outputs": [],
   "source": [
    "#transform back to dataframe to understand the coefficients\n",
    "X_train_wind_df=DataFrame(X_train_wind, :auto)\n",
    "X_valid_wind_df=DataFrame(X_valid_wind, :auto)\n",
    "#rename columns with list of values\n",
    "rename!(X_train_wind_df, names(df[:, 13:38]))\n",
    "rename!(X_valid_wind_df, names(df[:, 13:38]))\n",
    "\n",
    "#transform vector into dataframe \n",
    "y_train_wind=DataFrame(Wind_Gen_MW = y_train_wind)\n",
    "y_valid_wind=DataFrame(Wind_Gen_MW = y_valid_wind)\n",
    "#save as CSV\n",
    "CSV.write(\"X_train_wind.csv\", X_train_wind_df)\n",
    "CSV.write(\"y_train_wind.csv\", y_train_wind)\n",
    "CSV.write(\"X_valid_wind.csv\", X_valid_wind_df)\n",
    "CSV.write(\"y_valid_wind.csv\", y_valid_wind);"
   ]
  },
  {
   "cell_type": "code",
   "execution_count": 27,
   "metadata": {},
   "outputs": [],
   "source": [
    "X_total_wind = vcat(X_train_wind_df, X_valid_wind_df)\n",
    "y_total_wind = vcat(y_train_wind,y_valid_wind);"
   ]
  },
  {
   "cell_type": "code",
   "execution_count": 28,
   "metadata": {},
   "outputs": [],
   "source": [
    "CSV.write(\"X_total_wind.csv\", X_total_wind)\n",
    "CSV.write(\"y_total_wind.csv\", y_total_wind);"
   ]
  },
  {
   "cell_type": "code",
   "execution_count": 26,
   "metadata": {},
   "outputs": [
    {
     "data": {
      "text/plain": [
       "0.15677170606012225"
      ]
     },
     "execution_count": 26,
     "metadata": {},
     "output_type": "execute_result"
    }
   ],
   "source": [
    "using Statistics\n",
    "SS_t = sum((y_solar .- mean(y_solar)).^2)\n",
    "\n",
    "# Regression sum of squares\n",
    "SS_r = sum(((X*best_beta_solar) .- mean(y_solar)).^2)\n",
    "\n",
    "R2_wind = SS_r/ SS_t"
   ]
  },
  {
   "cell_type": "code",
   "execution_count": 27,
   "metadata": {},
   "outputs": [
    {
     "data": {
      "text/plain": [
       "0.47151454919040925"
      ]
     },
     "execution_count": 27,
     "metadata": {},
     "output_type": "execute_result"
    }
   ],
   "source": [
    "SS_t_wind = sum((y_wind .- mean(y_wind)).^2)\n",
    "\n",
    "# Regression sum of squares\n",
    "SS_r_wind = sum(((X*B_best_wind) .- mean(y_wind)).^2)\n",
    "\n",
    "R2_wind = SS_r_wind/ SS_t_wind"
   ]
  },
  {
   "cell_type": "code",
   "execution_count": null,
   "metadata": {},
   "outputs": [],
   "source": []
  }
 ],
 "metadata": {
  "kernelspec": {
   "display_name": "Julia 1.8.2",
   "language": "julia",
   "name": "julia-1.8"
  },
  "language_info": {
   "file_extension": ".jl",
   "mimetype": "application/julia",
   "name": "julia",
   "version": "1.8.3"
  },
  "orig_nbformat": 4
 },
 "nbformat": 4,
 "nbformat_minor": 2
}
