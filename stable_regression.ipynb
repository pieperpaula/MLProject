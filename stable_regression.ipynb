{
 "cells": [
  {
   "cell_type": "code",
   "execution_count": 18,
   "metadata": {},
   "outputs": [],
   "source": [
    "using CSV, Tables, LinearAlgebra, Random, Gurobi, JuMP, DataFrames"
   ]
  },
  {
   "cell_type": "code",
   "execution_count": 19,
   "metadata": {},
   "outputs": [],
   "source": [
    "df = DataFrame(CSV.File(\"final_data.csv\"));"
   ]
  },
  {
   "cell_type": "code",
   "execution_count": 20,
   "metadata": {},
   "outputs": [],
   "source": [
    "data = CSV.File(\"final_data.csv\", header=true) |> Tables.matrix;"
   ]
  },
  {
   "cell_type": "code",
   "execution_count": 21,
   "metadata": {},
   "outputs": [],
   "source": [
    "#Part d\n",
    "function stable_regression(X, y, k)\n",
    "    m = Model(Gurobi.Optimizer)\n",
    "    set_optimizer_attribute(m, \"OutputFlag\", 0)\n",
    "    \n",
    "    n, p = size(X)\n",
    "    \n",
    "    @variable(m, B[1:p])\n",
    "    @variable(m, u[1:n])\n",
    "    @variable(m, θ)\n",
    "    #println(typeof(B))\n",
    "    #println(typeof(u))\n",
    "    #println(typeof(y))\n",
    "    #println(typeof(X))\n",
    "    @constraint(m, u .+ θ .>= (y - X*B).^2)\n",
    "    @constraint(m, u .>= 0)\n",
    "    @objective(m, Min, k*θ + sum(u))\n",
    "\n",
    "    optimize!(m)\n",
    "    return value.(B)\n",
    "end;"
   ]
  },
  {
   "cell_type": "code",
   "execution_count": 22,
   "metadata": {},
   "outputs": [],
   "source": [
    "y_solar = data[:,11];\n",
    "X = data[:,13:38];\n",
    "y_wind = data[:,12];\n"
   ]
  },
  {
   "cell_type": "code",
   "execution_count": 23,
   "metadata": {},
   "outputs": [],
   "source": [
    "function MSE(y, pred) \n",
    "    return sum((y-pred).^2)/length(y)\n",
    "end;"
   ]
  },
  {
   "cell_type": "markdown",
   "metadata": {},
   "source": [
    "### SOLAR: BEST SPLIT\n",
    "60% TRAIN 40% VALIDATION"
   ]
  },
  {
   "cell_type": "markdown",
   "metadata": {},
   "source": [
    "**We pick the split with the worst MSE in stable regression**"
   ]
  },
  {
   "cell_type": "code",
   "execution_count": 24,
   "metadata": {},
   "outputs": [
    {
     "name": "stdout",
     "output_type": "stream",
     "text": [
      "Set parameter Username\n",
      "Academic license - for non-commercial use only - expires 2023-08-18\n",
      "Set parameter Username\n",
      "Academic license - for non-commercial use only - expires 2023-08-18\n",
      "Set parameter Username\n",
      "Academic license - for non-commercial use only - expires 2023-08-18\n",
      "Set parameter Username\n",
      "Academic license - for non-commercial use only - expires 2023-08-18\n",
      "Set parameter Username\n",
      "Academic license - for non-commercial use only - expires 2023-08-18\n",
      "Set parameter Username\n",
      "Academic license - for non-commercial use only - expires 2023-08-18\n",
      "Set parameter Username\n",
      "Academic license - for non-commercial use only - expires 2023-08-18\n",
      "Set parameter Username\n",
      "Academic license - for non-commercial use only - expires 2023-08-18\n",
      "Set parameter Username\n",
      "Academic license - for non-commercial use only - expires 2023-08-18\n"
     ]
    }
   ],
   "source": [
    "n,p = size(X)\n",
    "MSE_best_solar, k_best_solar = 0, 0\n",
    "best_beta_solar = zeros()\n",
    "X_train_best, X_valid_best, y_train_best, y_valid_best = nothing, nothing, nothing, nothing\n",
    "for k in [4380,4818,5255,5693,6131,6569,7007,7445,7883] #we look for the best split of the data\n",
    "    X_train = Matrix(X[1:k,:])\n",
    "    y_train = y_solar[1:k]\n",
    "    X_valid = Matrix(X[k+1:n,:])\n",
    "    y_valid = y_solar[k+1:n]\n",
    "\n",
    "    β_temp = stable_regression(X_train, y_train, k)\n",
    "    MSE_temp = MSE(y_valid, X_valid*β_temp)\n",
    "    if MSE_temp >= MSE_best_solar\n",
    "        MSE_best_solar = MSE_temp\n",
    "        k_best_solar = k \n",
    "        best_beta_solar = β_temp\n",
    "        X_train_best = X_train\n",
    "        X_valid_best = X_valid\n",
    "        y_train_best = y_train\n",
    "        y_valid_best = y_valid\n",
    "    end\n",
    "end\n"
   ]
  },
  {
   "cell_type": "code",
   "execution_count": 25,
   "metadata": {},
   "outputs": [
    {
     "data": {
      "text/plain": [
       "5255"
      ]
     },
     "execution_count": 25,
     "metadata": {},
     "output_type": "execute_result"
    }
   ],
   "source": [
    "k_best_solar #best split is 60% training and 40% validation"
   ]
  },
  {
   "cell_type": "code",
   "execution_count": 26,
   "metadata": {},
   "outputs": [
    {
     "data": {
      "text/plain": [
       "93810.12380398327"
      ]
     },
     "execution_count": 26,
     "metadata": {},
     "output_type": "execute_result"
    }
   ],
   "source": [
    "MSE_best_solar"
   ]
  },
  {
   "cell_type": "markdown",
   "metadata": {},
   "source": [
    "##### Pulling out the indices with the worst residuals to determine the training data"
   ]
  },
  {
   "cell_type": "code",
   "execution_count": 27,
   "metadata": {},
   "outputs": [],
   "source": [
    "solar_residuals = (y_solar.-X*best_beta_solar).^2;\n",
    "solar_sorted_resid = sort(solar_residuals, rev = true);"
   ]
  },
  {
   "cell_type": "code",
   "execution_count": 28,
   "metadata": {},
   "outputs": [],
   "source": [
    "train_indices = []\n",
    "test_indices = []\n",
    "for ind = 1:8759\n",
    "    if solar_residuals[ind] in solar_sorted_resid[1:5255]\n",
    "        push!(train_indices,ind)\n",
    "    else\n",
    "        push!(test_indices,ind)\n",
    "    end \n",
    "end\n",
    "\n"
   ]
  },
  {
   "cell_type": "code",
   "execution_count": 29,
   "metadata": {},
   "outputs": [],
   "source": [
    "X_best_solar = zeros(5255,26)\n",
    "y_best_solar = zeros(5255)\n",
    "for numb =1:5255\n",
    "    X_best_solar[numb,:] = X[train_indices[numb],:]\n",
    "    y_best_solar[numb] = y_solar[train_indices[numb]]\n",
    "end"
   ]
  },
  {
   "cell_type": "code",
   "execution_count": 30,
   "metadata": {},
   "outputs": [],
   "source": [
    "X_valid_solar = zeros(3504,26)\n",
    "y_valid_solar = zeros(3504)\n",
    "for numb =1:3504\n",
    "    X_valid_solar[numb,:] = X[test_indices[numb],:]\n",
    "    y_valid_solar[numb] = y_solar[test_indices[numb]]\n",
    "end"
   ]
  },
  {
   "cell_type": "code",
   "execution_count": 31,
   "metadata": {},
   "outputs": [],
   "source": [
    "X_train_solar = X_best_solar\n",
    "X_valid_solar = X_valid_solar\n",
    "y_train_solar = y_best_solar\n",
    "y_valid_solar = y_valid_solar;"
   ]
  },
  {
   "cell_type": "code",
   "execution_count": 32,
   "metadata": {},
   "outputs": [],
   "source": [
    "#transform back to dataframe to understand the coefficients\n",
    "X_train_solar_df=DataFrame(X_train_solar, :auto)\n",
    "X_valid_solar_df=DataFrame(X_valid_solar, :auto)\n",
    "#rename columns with list of values\n",
    "rename!(X_train_solar_df, names(df[:, 13:38]))\n",
    "rename!(X_valid_solar_df, names(df[:, 13:38]))\n",
    "\n",
    "#transform vector into dataframe \n",
    "y_train_solar=DataFrame(Solar_Gen_MW = y_train_solar)\n",
    "y_valid_solar=DataFrame(Solar_Gen_MW = y_valid_solar)\n",
    "#save as CSV\n",
    "CSV.write(\"X_train_solar.csv\", X_train_solar_df)\n",
    "CSV.write(\"X_valid_solar.csv\", X_valid_solar_df)\n",
    "CSV.write(\"y_train_solar.csv\", y_train_solar)\n",
    "CSV.write(\"y_valid_solar.csv\", y_valid_solar);"
   ]
  },
  {
   "cell_type": "code",
   "execution_count": 50,
   "metadata": {},
   "outputs": [],
   "source": [
    "X_total_solar = vcat(X_train_solar_df, X_valid_solar_df)\n",
    "y_total_solar = vcat(y_train_solar,y_valid_solar);\n",
    "\n",
    "CSV.write(\"X_total_solar.csv\", X_total_solar)\n",
    "CSV.write(\"y_total_solar.csv\", y_total_solar);"
   ]
  },
  {
   "cell_type": "markdown",
   "metadata": {},
   "source": [
    "### WIND: BEST SPLIT \n",
    "70% TRAIN 30% VALIDATION"
   ]
  },
  {
   "cell_type": "code",
   "execution_count": 39,
   "metadata": {},
   "outputs": [
    {
     "name": "stdout",
     "output_type": "stream",
     "text": [
      "Set parameter Username\n",
      "Academic license - for non-commercial use only - expires 2023-08-18\n",
      "Set parameter Username\n",
      "Academic license - for non-commercial use only - expires 2023-08-18\n",
      "Set parameter Username\n",
      "Academic license - for non-commercial use only - expires 2023-08-18\n",
      "Set parameter Username\n",
      "Academic license - for non-commercial use only - expires 2023-08-18\n",
      "Set parameter Username\n",
      "Academic license - for non-commercial use only - expires 2023-08-18\n",
      "Set parameter Username\n",
      "Academic license - for non-commercial use only - expires 2023-08-18\n",
      "Set parameter Username\n",
      "Academic license - for non-commercial use only - expires 2023-08-18\n",
      "Set parameter Username\n",
      "Academic license - for non-commercial use only - expires 2023-08-18\n",
      "Set parameter Username\n",
      "Academic license - for non-commercial use only - expires 2023-08-18\n"
     ]
    }
   ],
   "source": [
    "n,p = size(X)\n",
    "MSE_best_wind, k_best_wind = 0, 0\n",
    "B_best_wind = zeros(26)\n",
    "X_train_best, X_valid_best, y_train_best, y_valid_best = nothing, nothing, nothing, nothing\n",
    "for k in [4380,4818,5255,5693,6131,6569,7007,7445,7883] #we look for the best split of the data\n",
    "    X_train = Matrix(X[1:k,:])\n",
    "    y_train = y_wind[1:k]\n",
    "    X_valid = Matrix(X[k:n,:])\n",
    "    y_valid = y_wind[k:n]\n",
    "\n",
    "    β_temp = stable_regression(X_train, y_train, k)\n",
    "    MSE_temp = MSE(y_valid, X_valid*β_temp)\n",
    "    if MSE_temp >= MSE_best_wind\n",
    "        MSE_best_wind = MSE_temp\n",
    "        k_best_wind = k \n",
    "        B_best_wind = β_temp\n",
    "        X_train_best = X_train\n",
    "        X_valid_best = X_valid\n",
    "        y_train_best = y_train\n",
    "        y_valid_best = y_valid\n",
    "    end\n",
    "end"
   ]
  },
  {
   "cell_type": "code",
   "execution_count": 40,
   "metadata": {},
   "outputs": [
    {
     "name": "stdout",
     "output_type": "stream",
     "text": [
      "6131\n",
      "1.4664152769031666e7\n"
     ]
    }
   ],
   "source": [
    "println(k_best_wind) #best split is 70% training and 30% validation\n",
    "println(MSE_best_wind)"
   ]
  },
  {
   "cell_type": "code",
   "execution_count": 41,
   "metadata": {},
   "outputs": [],
   "source": [
    "wind_residuals = (y_wind.-X*B_best_wind).^2;\n",
    "wind_sorted_resid = sort(wind_residuals, rev = true);"
   ]
  },
  {
   "cell_type": "code",
   "execution_count": 42,
   "metadata": {},
   "outputs": [],
   "source": [
    "wind_train_indices = []\n",
    "wind_test_indices = []\n",
    "for ind = 1:8759\n",
    "    if wind_residuals[ind] in wind_sorted_resid[1:6131]\n",
    "        push!(wind_train_indices,ind)\n",
    "    else\n",
    "        push!(wind_test_indices,ind)\n",
    "    end \n",
    "end\n"
   ]
  },
  {
   "cell_type": "code",
   "execution_count": 43,
   "metadata": {},
   "outputs": [],
   "source": [
    "X_best_wind= zeros(6131,26)\n",
    "y_best_wind= zeros(6131)\n",
    "for numb =1:6131\n",
    "    X_best_wind[numb,:] = X[wind_train_indices[numb],:]\n",
    "    y_best_wind[numb] = y_wind[wind_train_indices[numb]]\n",
    "end"
   ]
  },
  {
   "cell_type": "code",
   "execution_count": 44,
   "metadata": {},
   "outputs": [],
   "source": [
    "X_valid_wind = zeros(2628,26)\n",
    "y_valid_wind = zeros(2628)\n",
    "for numb =1:2628\n",
    "    X_valid_wind[numb,:] = X[wind_test_indices[numb],:]\n",
    "    y_valid_wind[numb] = y_solar[wind_test_indices[numb]]\n",
    "end"
   ]
  },
  {
   "cell_type": "code",
   "execution_count": 45,
   "metadata": {},
   "outputs": [],
   "source": [
    "X_train_wind = X_best_wind\n",
    "y_train_wind = y_best_wind\n",
    "X_valid_wind = X_valid_wind\n",
    "y_valid_wind = y_valid_wind;"
   ]
  },
  {
   "cell_type": "code",
   "execution_count": 46,
   "metadata": {},
   "outputs": [],
   "source": [
    "#transform back to dataframe to understand the coefficients\n",
    "X_train_wind_df=DataFrame(X_train_wind, :auto)\n",
    "X_valid_wind_df=DataFrame(X_valid_wind, :auto)\n",
    "#rename columns with list of values\n",
    "rename!(X_train_wind_df, names(df[:, 13:38]))\n",
    "rename!(X_valid_wind_df, names(df[:, 13:38]))\n",
    "\n",
    "#transform vector into dataframe \n",
    "y_train_wind=DataFrame(Wind_Gen_MW = y_train_wind)\n",
    "y_valid_wind=DataFrame(Wind_Gen_MW = y_valid_wind)\n",
    "#save as CSV\n",
    "CSV.write(\"X_train_wind.csv\", X_train_wind_df)\n",
    "CSV.write(\"y_train_wind.csv\", y_train_wind)\n",
    "CSV.write(\"X_valid_wind.csv\", X_valid_wind_df)\n",
    "CSV.write(\"y_valid_wind.csv\", y_valid_wind);"
   ]
  },
  {
   "cell_type": "code",
   "execution_count": 47,
   "metadata": {},
   "outputs": [],
   "source": [
    "X_total_wind = vcat(X_train_wind_df, X_valid_wind_df)\n",
    "y_total_wind = vcat(y_train_wind,y_valid_wind);"
   ]
  },
  {
   "cell_type": "code",
   "execution_count": 48,
   "metadata": {},
   "outputs": [],
   "source": [
    "CSV.write(\"X_total_wind.csv\", X_total_wind)\n",
    "CSV.write(\"y_total_wind.csv\", y_total_wind);"
   ]
  },
  {
   "cell_type": "code",
   "execution_count": 26,
   "metadata": {},
   "outputs": [
    {
     "data": {
      "text/plain": [
       "0.15677170606012225"
      ]
     },
     "execution_count": 26,
     "metadata": {},
     "output_type": "execute_result"
    }
   ],
   "source": [
    "using Statistics\n",
    "SS_t = sum((y_solar .- mean(y_solar)).^2)\n",
    "\n",
    "# Regression sum of squares\n",
    "SS_r = sum(((X*best_beta_solar) .- mean(y_solar)).^2)\n",
    "\n",
    "R2_wind = SS_r/ SS_t"
   ]
  },
  {
   "cell_type": "code",
   "execution_count": 27,
   "metadata": {},
   "outputs": [
    {
     "data": {
      "text/plain": [
       "0.47151454919040925"
      ]
     },
     "execution_count": 27,
     "metadata": {},
     "output_type": "execute_result"
    }
   ],
   "source": [
    "SS_t_wind = sum((y_wind .- mean(y_wind)).^2)\n",
    "\n",
    "# Regression sum of squares\n",
    "SS_r_wind = sum(((X*B_best_wind) .- mean(y_wind)).^2)\n",
    "\n",
    "R2_wind = SS_r_wind/ SS_t_wind"
   ]
  },
  {
   "cell_type": "code",
   "execution_count": null,
   "metadata": {},
   "outputs": [],
   "source": []
  }
 ],
 "metadata": {
  "kernelspec": {
   "display_name": "Julia 1.8.2",
   "language": "julia",
   "name": "julia-1.8"
  },
  "language_info": {
   "file_extension": ".jl",
   "mimetype": "application/julia",
   "name": "julia",
   "version": "1.8.3"
  },
  "orig_nbformat": 4
 },
 "nbformat": 4,
 "nbformat_minor": 2
}
