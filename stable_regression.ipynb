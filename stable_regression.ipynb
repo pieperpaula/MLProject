{
 "cells": [
  {
   "cell_type": "code",
   "execution_count": 14,
   "metadata": {},
   "outputs": [],
   "source": [
    "using CSV, Tables, LinearAlgebra, Random, Gurobi, JuMP, DataFrames"
   ]
  },
  {
   "cell_type": "code",
   "execution_count": 15,
   "metadata": {},
   "outputs": [],
   "source": [
    "\n",
    "df = DataFrame(CSV.File(\"final_data.csv\"));"
   ]
  },
  {
   "cell_type": "code",
   "execution_count": 16,
   "metadata": {},
   "outputs": [
    {
     "data": {
      "text/html": [
       "<div class=\"data-frame\"><p>38 rows × 7 columns (omitted printing of 2 columns)</p><table class=\"data-frame\"><thead><tr><th></th><th>variable</th><th>mean</th><th>min</th><th>median</th><th>max</th></tr><tr><th></th><th title=\"Symbol\">Symbol</th><th title=\"Union{Nothing, Float64}\">Union…</th><th title=\"Any\">Any</th><th title=\"Union{Nothing, Float64}\">Union…</th><th title=\"Any\">Any</th></tr></thead><tbody><tr><th>1</th><td>Datetime</td><td></td><td>2021-01-01 00:00:00</td><td></td><td>2021-12-31 23:00:00</td></tr><tr><th>2</th><td>Day</td><td>15.7207</td><td>1</td><td>16.0</td><td>31</td></tr><tr><th>3</th><td>Month</td><td>6.52643</td><td>1</td><td>7.0</td><td>12</td></tr><tr><th>4</th><td>Hour</td><td>11.5011</td><td>0</td><td>12.0</td><td>23</td></tr><tr><th>5</th><td>Year</td><td>2021.0</td><td>2021</td><td>2021.0</td><td>2021</td></tr><tr><th>6</th><td>Dual Fuel_Gen_MW</td><td>45271.4</td><td>11226.0</td><td>41720.0</td><td>170491.0</td></tr><tr><th>7</th><td>Hydro_Gen_MW</td><td>38502.6</td><td>13771.0</td><td>39276.0</td><td>72251.0</td></tr><tr><th>8</th><td>Natural Gas_Gen_MW</td><td>38654.3</td><td>12595.0</td><td>37104.0</td><td>100129.0</td></tr><tr><th>9</th><td>Nuclear_Gen_MW</td><td>43465.0</td><td>28202.0</td><td>40014.0</td><td>89400.0</td></tr><tr><th>10</th><td>Other Fossil Fuels_Gen_MW</td><td>297.474</td><td>0.0</td><td>36.0</td><td>18185.0</td></tr><tr><th>11</th><td>Solar_Gen_MW</td><td>2977.17</td><td>2104.0</td><td>2977.0</td><td>5830.0</td></tr><tr><th>12</th><td>Wind_Gen_MW</td><td>5760.92</td><td>0.0</td><td>4220.0</td><td>27888.0</td></tr><tr><th>13</th><td>temp</td><td>52.0952</td><td>6.1</td><td>52.2</td><td>91.7</td></tr><tr><th>14</th><td>feelslike</td><td>48.9708</td><td>-7.4</td><td>52.2</td><td>96.9</td></tr><tr><th>15</th><td>dew</td><td>41.3487</td><td>-3.9</td><td>40.9</td><td>74.7</td></tr><tr><th>16</th><td>humidity</td><td>68.897</td><td>13.74</td><td>70.51</td><td>100.0</td></tr><tr><th>17</th><td>precip</td><td>0.00416828</td><td>0.0</td><td>0.0</td><td>1.191</td></tr><tr><th>18</th><td>precipprob</td><td>10.6519</td><td>0</td><td>0.0</td><td>100</td></tr><tr><th>19</th><td>snow</td><td>0.00511588</td><td>0.0</td><td>0.0</td><td>3.54</td></tr><tr><th>20</th><td>snowdepth</td><td>0.831097</td><td>0.0</td><td>0.0</td><td>11.65</td></tr><tr><th>21</th><td>windspeed</td><td>9.4688</td><td>0.0</td><td>8.7</td><td>82.3</td></tr><tr><th>22</th><td>winddir</td><td>204.158</td><td>0.0</td><td>222.0</td><td>360.0</td></tr><tr><th>23</th><td>sealevelpressure</td><td>1016.54</td><td>988.7</td><td>1016.6</td><td>1036.4</td></tr><tr><th>24</th><td>cloudcover</td><td>70.6503</td><td>0.0</td><td>85.7</td><td>100.0</td></tr><tr><th>&vellip;</th><td>&vellip;</td><td>&vellip;</td><td>&vellip;</td><td>&vellip;</td><td>&vellip;</td></tr></tbody></table></div>"
      ],
      "text/latex": [
       "\\begin{tabular}{r|cccccc}\n",
       "\t& variable & mean & min & median & max & \\\\\n",
       "\t\\hline\n",
       "\t& Symbol & Union… & Any & Union… & Any & \\\\\n",
       "\t\\hline\n",
       "\t1 & Datetime &  & 2021-01-01 00:00:00 &  & 2021-12-31 23:00:00 & $\\dots$ \\\\\n",
       "\t2 & Day & 15.7207 & 1 & 16.0 & 31 & $\\dots$ \\\\\n",
       "\t3 & Month & 6.52643 & 1 & 7.0 & 12 & $\\dots$ \\\\\n",
       "\t4 & Hour & 11.5011 & 0 & 12.0 & 23 & $\\dots$ \\\\\n",
       "\t5 & Year & 2021.0 & 2021 & 2021.0 & 2021 & $\\dots$ \\\\\n",
       "\t6 & Dual Fuel\\_Gen\\_MW & 45271.4 & 11226.0 & 41720.0 & 170491.0 & $\\dots$ \\\\\n",
       "\t7 & Hydro\\_Gen\\_MW & 38502.6 & 13771.0 & 39276.0 & 72251.0 & $\\dots$ \\\\\n",
       "\t8 & Natural Gas\\_Gen\\_MW & 38654.3 & 12595.0 & 37104.0 & 100129.0 & $\\dots$ \\\\\n",
       "\t9 & Nuclear\\_Gen\\_MW & 43465.0 & 28202.0 & 40014.0 & 89400.0 & $\\dots$ \\\\\n",
       "\t10 & Other Fossil Fuels\\_Gen\\_MW & 297.474 & 0.0 & 36.0 & 18185.0 & $\\dots$ \\\\\n",
       "\t11 & Solar\\_Gen\\_MW & 2977.17 & 2104.0 & 2977.0 & 5830.0 & $\\dots$ \\\\\n",
       "\t12 & Wind\\_Gen\\_MW & 5760.92 & 0.0 & 4220.0 & 27888.0 & $\\dots$ \\\\\n",
       "\t13 & temp & 52.0952 & 6.1 & 52.2 & 91.7 & $\\dots$ \\\\\n",
       "\t14 & feelslike & 48.9708 & -7.4 & 52.2 & 96.9 & $\\dots$ \\\\\n",
       "\t15 & dew & 41.3487 & -3.9 & 40.9 & 74.7 & $\\dots$ \\\\\n",
       "\t16 & humidity & 68.897 & 13.74 & 70.51 & 100.0 & $\\dots$ \\\\\n",
       "\t17 & precip & 0.00416828 & 0.0 & 0.0 & 1.191 & $\\dots$ \\\\\n",
       "\t18 & precipprob & 10.6519 & 0 & 0.0 & 100 & $\\dots$ \\\\\n",
       "\t19 & snow & 0.00511588 & 0.0 & 0.0 & 3.54 & $\\dots$ \\\\\n",
       "\t20 & snowdepth & 0.831097 & 0.0 & 0.0 & 11.65 & $\\dots$ \\\\\n",
       "\t21 & windspeed & 9.4688 & 0.0 & 8.7 & 82.3 & $\\dots$ \\\\\n",
       "\t22 & winddir & 204.158 & 0.0 & 222.0 & 360.0 & $\\dots$ \\\\\n",
       "\t23 & sealevelpressure & 1016.54 & 988.7 & 1016.6 & 1036.4 & $\\dots$ \\\\\n",
       "\t24 & cloudcover & 70.6503 & 0.0 & 85.7 & 100.0 & $\\dots$ \\\\\n",
       "\t$\\dots$ & $\\dots$ & $\\dots$ & $\\dots$ & $\\dots$ & $\\dots$ &  \\\\\n",
       "\\end{tabular}\n"
      ],
      "text/plain": [
       "\u001b[1m38×7 DataFrame\u001b[0m\n",
       "\u001b[1m Row \u001b[0m│\u001b[1m variable                      \u001b[0m\u001b[1m mean       \u001b[0m\u001b[1m min                 \u001b[0m\u001b[1m median \u001b[0m ⋯\n",
       "\u001b[1m     \u001b[0m│\u001b[90m Symbol                        \u001b[0m\u001b[90m Union…     \u001b[0m\u001b[90m Any                 \u001b[0m\u001b[90m Union… \u001b[0m ⋯\n",
       "─────┼──────────────────────────────────────────────────────────────────────────\n",
       "   1 │ Datetime                      \u001b[90m            \u001b[0m 2021-01-01 00:00:00 \u001b[90m        \u001b[0m ⋯\n",
       "   2 │ Day                            15.7207     1                    16.0\n",
       "   3 │ Month                          6.52643     1                    7.0\n",
       "   4 │ Hour                           11.5011     0                    12.0\n",
       "   5 │ Year                           2021.0      2021                 2021.0  ⋯\n",
       "   6 │ Dual Fuel_Gen_MW               45271.4     11226.0              41720.0\n",
       "   7 │ Hydro_Gen_MW                   38502.6     13771.0              39276.0\n",
       "   8 │ Natural Gas_Gen_MW             38654.3     12595.0              37104.0\n",
       "  ⋮  │               ⋮                    ⋮                ⋮              ⋮    ⋱\n",
       "  32 │ conditions_Rain_partly_cloudy  0.0147277   0                    0.0     ⋯\n",
       "  33 │ conditions_Snow_overcast       0.00833428  0                    0.0\n",
       "  34 │ conditions_Snow_rain_overcast  0.0179244   0                    0.0\n",
       "  35 │ preciptype_no_precipitation    0.893481    0                    1.0\n",
       "  36 │ preciptype_rain                0.0802603   0                    0.0     ⋯\n",
       "  37 │ preciptype_rain_and_snow       0.0179244   0                    0.0\n",
       "  38 │ preciptype_snow                0.00833428  0                    0.0\n",
       "\u001b[36m                                                   3 columns and 23 rows omitted\u001b[0m"
      ]
     },
     "metadata": {},
     "output_type": "display_data"
    }
   ],
   "source": [
    "describe(df)"
   ]
  },
  {
   "cell_type": "code",
   "execution_count": 17,
   "metadata": {},
   "outputs": [],
   "source": [
    "data = CSV.File(\"final_data.csv\", header=true) |> Tables.matrix;"
   ]
  },
  {
   "cell_type": "code",
   "execution_count": 18,
   "metadata": {},
   "outputs": [],
   "source": [
    "#Part d\n",
    "function stable_regression(X, y, k)\n",
    "    m = Model(Gurobi.Optimizer)\n",
    "    set_optimizer_attribute(m, \"OutputFlag\", 0)\n",
    "    \n",
    "    n, p = size(X)\n",
    "    \n",
    "    @variable(m, B[1:p])\n",
    "    @variable(m, u[1:n])\n",
    "    @variable(m, θ)\n",
    "    println(typeof(B))\n",
    "    println(typeof(u))\n",
    "    println(typeof(y))\n",
    "    println(typeof(X))\n",
    "    @constraint(m, u .+ θ .>= (y - X*B).^2)\n",
    "    @constraint(m, u .>= 0)\n",
    "    @objective(m, Min, k*θ + sum(u))\n",
    "\n",
    "    optimize!(m)\n",
    "    return value.(B)\n",
    "end;"
   ]
  },
  {
   "cell_type": "code",
   "execution_count": 19,
   "metadata": {},
   "outputs": [],
   "source": [
    "y_solar = data[:,11];\n",
    "X = data[:,13:38];\n",
    "y_wind = data[:,12];\n"
   ]
  },
  {
   "cell_type": "code",
   "execution_count": 26,
   "metadata": {},
   "outputs": [
    {
     "data": {
      "text/plain": [
       "8759×26 Matrix{Any}:\n",
       " 32.4  29.7  24.0  70.72  0.0  0  0.0   …  0  0  0  1  0  0  0  0  1  0  0  0\n",
       " 32.5  32.5  24.1  70.76  0.0  0  0.0      0  0  1  0  0  0  0  0  1  0  0  0\n",
       " 31.6  28.3  24.2  73.84  0.0  0  0.0      0  0  1  0  0  0  0  0  1  0  0  0\n",
       " 31.6  26.8  25.1  76.66  0.0  0  0.0      0  0  1  0  0  0  0  0  1  0  0  0\n",
       " 31.8  27.2  25.2  76.31  0.0  0  0.0      0  0  1  0  0  0  0  0  1  0  0  0\n",
       " 29.5  23.6  24.1  79.99  0.0  0  0.0   …  0  0  0  1  0  0  0  0  1  0  0  0\n",
       " 29.7  23.9  23.2  76.63  0.0  0  0.0      0  0  0  1  0  0  0  0  1  0  0  0\n",
       " 28.9  22.9  21.3  72.8   0.0  0  0.0      0  0  0  1  0  0  0  0  1  0  0  0\n",
       " 28.1  24.7  21.0  74.55  0.0  0  0.0      0  0  0  1  0  0  0  0  1  0  0  0\n",
       " 28.8  22.7  21.2  72.71  0.0  0  2.35     1  0  0  1  0  0  0  0  1  0  0  0\n",
       "  ⋮                            ⋮        ⋱     ⋮              ⋮              ⋮\n",
       " 47.0  41.5  40.9  79.12  0.0  0  0.05  …  2  0  0  1  0  0  0  0  1  0  0  0\n",
       " 45.0  40.6  39.6  81.42  0.0  0  0.05     0  0  0  1  0  0  0  0  1  0  0  0\n",
       " 42.2  39.4  38.7  87.27  0.0  0  0.05     0  0  0  1  0  0  0  0  1  0  0  0\n",
       " 41.9  39.8  38.5  87.86  0.0  0  0.05     0  0  0  1  0  0  0  0  1  0  0  0\n",
       " 38.9  35.3  36.9  92.52  0.0  0  0.05     0  0  0  1  0  0  0  0  1  0  0  0\n",
       " 39.6  34.8  37.0  90.32  0.0  0  0.05  …  0  0  0  1  0  0  0  0  1  0  0  0\n",
       " 38.5  35.0  35.7  89.46  0.0  0  0.05     0  0  0  1  0  0  0  0  1  0  0  0\n",
       " 39.8  36.2  37.1  90.19  0.0  0  0.05     0  0  1  0  0  0  0  0  1  0  0  0\n",
       " 39.0  34.8  37.2  93.29  0.0  0  0.05     0  0  1  0  0  0  0  0  1  0  0  0"
      ]
     },
     "metadata": {},
     "output_type": "display_data"
    }
   ],
   "source": [
    "X"
   ]
  },
  {
   "cell_type": "code",
   "execution_count": 20,
   "metadata": {},
   "outputs": [],
   "source": [
    "function MSE(y, pred) \n",
    "    return sum((y-pred).^2)/length(y)\n",
    "end;"
   ]
  },
  {
   "cell_type": "code",
   "execution_count": 21,
   "metadata": {},
   "outputs": [
    {
     "name": "stdout",
     "output_type": "stream",
     "text": [
      "Set parameter Username\n",
      "Academic license - for non-commercial use only - expires 2023-08-19\n",
      "Vector{"
     ]
    },
    {
     "name": "stdout",
     "output_type": "stream",
     "text": [
      "VariableRef}\n",
      "Vector{VariableRef}\n",
      "Vector{Any}\n",
      "Matrix{Any}\n"
     ]
    },
    {
     "name": "stdout",
     "output_type": "stream",
     "text": [
      "Set parameter Username\n",
      "Academic license - for non-commercial use only - expires 2023-08-19\n",
      "Vector{VariableRef}\n",
      "Vector{VariableRef}\n",
      "Vector{Any}\n",
      "Matrix{Any}\n"
     ]
    },
    {
     "name": "stdout",
     "output_type": "stream",
     "text": [
      "Set parameter Username\n",
      "Academic license - for non-commercial use only - expires 2023-08-19\n",
      "Vector{VariableRef}\n",
      "Vector{VariableRef}\n",
      "Vector{Any}\n",
      "Matrix{Any}\n"
     ]
    },
    {
     "name": "stdout",
     "output_type": "stream",
     "text": [
      "Set parameter Username\n",
      "Academic license - for non-commercial use only - expires 2023-08-19\n",
      "Vector{VariableRef}\n",
      "Vector{VariableRef}\n",
      "Vector{Any}\n",
      "Matrix{Any}\n"
     ]
    },
    {
     "name": "stdout",
     "output_type": "stream",
     "text": [
      "Set parameter Username\n",
      "Academic license - for non-commercial use only - expires 2023-08-19\n",
      "Vector{VariableRef}\n",
      "Vector{VariableRef}\n",
      "Vector{Any}\n",
      "Matrix{Any}\n"
     ]
    },
    {
     "name": "stdout",
     "output_type": "stream",
     "text": [
      "Set parameter Username\n",
      "Academic license - for non-commercial use only - expires 2023-08-19\n",
      "Vector{VariableRef}\n",
      "Vector{VariableRef}\n",
      "Vector{Any}\n",
      "Matrix{Any}\n"
     ]
    },
    {
     "name": "stdout",
     "output_type": "stream",
     "text": [
      "Set parameter Username\n",
      "Academic license - for non-commercial use only - expires 2023-08-19\n",
      "Vector{VariableRef}\n",
      "Vector{VariableRef}\n",
      "Vector{Any}\n",
      "Matrix{Any}\n"
     ]
    },
    {
     "name": "stdout",
     "output_type": "stream",
     "text": [
      "Set parameter Username\n",
      "Academic license - for non-commercial use only - expires 2023-08-19\n",
      "Vector{VariableRef}\n",
      "Vector{VariableRef}\n",
      "Vector{Any}\n",
      "Matrix{Any}\n"
     ]
    },
    {
     "name": "stdout",
     "output_type": "stream",
     "text": [
      "Set parameter Username\n",
      "Academic license - for non-commercial use only - expires 2023-08-19\n",
      "Vector{VariableRef}\n",
      "Vector{VariableRef}\n",
      "Vector{Any}\n",
      "Matrix{Any}\n"
     ]
    }
   ],
   "source": [
    "n,p = size(X)\n",
    "MSE_best, k_best = Inf, Inf\n",
    "for k in [4380,4818,5255,5693,6131,6569,7007,7445,7883]\n",
    "    X_train = Matrix(X[1:k,:])\n",
    "    y_train = y_solar[1:k]\n",
    "    X_valid = Matrix(X[k:n,:])\n",
    "    y_valid = y_solar[k:n]\n",
    "\n",
    "    β_temp = stable_regression(X_train, y_train, k)\n",
    "    MSE_temp = MSE(y_valid, X_valid*β_temp)\n",
    "    if MSE_temp < MSE_best\n",
    "        MSE_best = MSE_temp\n",
    "        k_best = k \n",
    "    end\n",
    "end\n"
   ]
  },
  {
   "cell_type": "code",
   "execution_count": 22,
   "metadata": {},
   "outputs": [
    {
     "data": {
      "text/plain": [
       "7007"
      ]
     },
     "metadata": {},
     "output_type": "display_data"
    }
   ],
   "source": [
    "k_best"
   ]
  },
  {
   "cell_type": "code",
   "execution_count": 23,
   "metadata": {},
   "outputs": [
    {
     "data": {
      "text/plain": [
       "87527.62999038263"
      ]
     },
     "metadata": {},
     "output_type": "display_data"
    }
   ],
   "source": [
    "MSE_best"
   ]
  },
  {
   "cell_type": "code",
   "execution_count": 24,
   "metadata": {},
   "outputs": [],
   "source": []
  }
 ],
 "metadata": {
  "kernelspec": {
   "display_name": "Julia 1.8.2",
   "language": "julia",
   "name": "julia-1.8"
  },
  "language_info": {
   "file_extension": ".jl",
   "mimetype": "application/julia",
   "name": "julia",
   "version": "1.8.2"
  },
  "orig_nbformat": 4
 },
 "nbformat": 4,
 "nbformat_minor": 2
}
