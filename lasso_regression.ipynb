{
 "cells": [
  {
   "cell_type": "markdown",
   "metadata": {},
   "source": [
    "### LASSO"
   ]
  },
  {
   "cell_type": "code",
   "execution_count": 3,
   "metadata": {},
   "outputs": [],
   "source": [
    "using CSV, Tables, LinearAlgebra, Random, Gurobi, JuMP, Statistics, DataFrames, Metrics\n",
    "#read train and validation data and split it into X and y\n",
    "X_train_solar=Matrix(DataFrame(CSV.File(\"X_train_solar.csv\")))\n",
    "y_train_solar=Matrix(DataFrame(CSV.File(\"y_train_solar.csv\")))\n",
    "X_train_wind=Matrix(DataFrame(CSV.File(\"X_train_wind.csv\")))\n",
    "y_train_wind=Matrix(DataFrame(CSV.File(\"y_train_wind.csv\")))\n",
    "\n",
    "X_valid_solar=Matrix(DataFrame(CSV.File(\"X_valid_solar.csv\")))\n",
    "y_valid_solar=Matrix(DataFrame(CSV.File(\"y_valid_solar.csv\")))\n",
    "X_valid_wind=Matrix(DataFrame(CSV.File(\"X_valid_wind.csv\")))\n",
    "y_valid_wind=Matrix(DataFrame(CSV.File(\"y_valid_wind.csv\")));"
   ]
  },
  {
   "cell_type": "markdown",
   "metadata": {},
   "source": [
    "### NORMALIZE DATA\n",
    "We normalize the data with min max scaling. We apply normalization for the numerical features only and then we use alpha to balance between numerical and binary variables."
   ]
  },
  {
   "cell_type": "code",
   "execution_count": null,
   "metadata": {},
   "outputs": [
    {
     "data": {
      "text/plain": [
       "min_max_scaling (generic function with 1 method)"
      ]
     },
     "metadata": {},
     "output_type": "display_data"
    }
   ],
   "source": [
    "function min_max_scaling(X, num_feature_indices)\n",
    "    for i in num_feature_indices\n",
    "        X[:, i] = (X[:, i] .- minimum(X[:, i])) ./ (maximum(X[:, i]) .- minimum(X[:, i]))\n",
    "    end\n",
    "    return X\n",
    "end"
   ]
  },
  {
   "cell_type": "markdown",
   "metadata": {},
   "source": [
    "#### SOLAR"
   ]
  },
  {
   "cell_type": "code",
   "execution_count": null,
   "metadata": {},
   "outputs": [],
   "source": [
    "#scale SOLAR TRAIN only numerical\n",
    "X_train_solar=min_max_scaling(Matrix(X_train_solar), 1:15)\n",
    "\n",
    "#numerical features\n",
    "X_num_solar = X_train_solar[:, 1:15]\n",
    "\n",
    "# Binary features as they are\n",
    "X_bin_solar = X_train_solar[:,16:end]\n",
    "\n",
    "# Numerical vs Categorical features scaling\n",
    "alpha = 0.75\n",
    "X_num_solar = alpha*X_num_solar\n",
    "X_bin_solar = (1-alpha)*X_bin_solar;\n",
    "\n",
    "# Append data\n",
    "X_train_solar_norm = [X_num_solar X_bin_solar];"
   ]
  },
  {
   "cell_type": "code",
   "execution_count": null,
   "metadata": {},
   "outputs": [],
   "source": [
    "#scale SOLAR TRAIN only numerical\n",
    "X_valid_solar=min_max_scaling(Matrix(X_valid_solar), 1:15)\n",
    "\n",
    "#numerical features\n",
    "X_num_solar = X_valid_solar[:, 1:15]\n",
    "\n",
    "# Binary features as they are\n",
    "X_bin_solar = X_valid_solar[:,16:end]\n",
    "\n",
    "# Numerical vs Categorical features scaling\n",
    "alpha = 0.75\n",
    "X_num_solar = alpha*X_num_solar\n",
    "X_bin_solar = (1-alpha)*X_bin_solar;\n",
    "\n",
    "# Append data\n",
    "X_valid_solar_norm = [X_num_solar X_bin_solar];"
   ]
  },
  {
   "cell_type": "code",
   "execution_count": null,
   "metadata": {},
   "outputs": [],
   "source": [
    "#scale Y \n",
    "y_train_solar_norm = min_max_scaling(Matrix(y_train_solar), 1:1)\n",
    "y_valid_solar_norm = min_max_scaling(Matrix(y_valid_solar), 1:1);"
   ]
  },
  {
   "cell_type": "markdown",
   "metadata": {},
   "source": [
    "#### WIND"
   ]
  },
  {
   "cell_type": "code",
   "execution_count": null,
   "metadata": {},
   "outputs": [],
   "source": [
    "X_train_wind=min_max_scaling(Matrix(X_train_wind), 1:15)\n",
    "\n",
    "#numerical features\n",
    "X_num_wind = X_train_wind[:, 1:15]\n",
    "\n",
    "# Binary features as they are\n",
    "X_bin_wind = X_train_wind[:,16:end]\n",
    "\n",
    "# Numerical vs Categorical features scaling\n",
    "alpha = 0.75\n",
    "X_num_wind = alpha*X_num_wind\n",
    "X_bin_wind = (1-alpha)*X_bin_wind;\n",
    "\n",
    "# Append data\n",
    "X_train_wind_norm = [X_num_wind X_bin_wind];"
   ]
  },
  {
   "cell_type": "code",
   "execution_count": null,
   "metadata": {},
   "outputs": [],
   "source": [
    "X_valid_wind=min_max_scaling(Matrix(X_valid_wind), 1:15)\n",
    "\n",
    "#numerical features\n",
    "X_num_wind = X_valid_wind[:, 1:15]\n",
    "\n",
    "# Binary features as they are\n",
    "X_bin_wind = X_valid_wind[:,16:end]\n",
    "\n",
    "# Numerical vs Categorical features scaling\n",
    "alpha = 0.75\n",
    "X_num_wind = alpha*X_num_wind\n",
    "X_bin_wind = (1-alpha)*X_bin_wind;\n",
    "\n",
    "# Append data\n",
    "X_valid_wind_norm = [X_num_wind X_bin_wind];"
   ]
  },
  {
   "cell_type": "code",
   "execution_count": null,
   "metadata": {},
   "outputs": [],
   "source": [
    "#scale Y \n",
    "y_train_wind_norm=min_max_scaling(Matrix(y_train_wind), 1:1)\n",
    "y_valid_wind_norm=min_max_scaling(Matrix(y_valid_wind), 1:1);"
   ]
  },
  {
   "cell_type": "markdown",
   "metadata": {},
   "source": [
    "## LASSO"
   ]
  },
  {
   "cell_type": "code",
   "execution_count": 2,
   "metadata": {},
   "outputs": [
    {
     "data": {
      "text/plain": [
       "lasso (generic function with 1 method)"
      ]
     },
     "execution_count": 2,
     "metadata": {},
     "output_type": "execute_result"
    }
   ],
   "source": [
    "function lasso(X,y,lambda)\n",
    "    \n",
    "    #Build model\n",
    "    model = Model(Gurobi.Optimizer)#we have defined the model, pass Gurobi optimizer into the model\n",
    "    set_optimizer_attribute(model,\"OutputFlag\",0)\n",
    "    \n",
    "    #Insert variables\n",
    "    n, p = size(X)\n",
    "    \n",
    "    @variable(model, beta[j=1:p])\n",
    "    @variable(model, beta_abs[j=1:p])    \n",
    "    #Insert constraints\n",
    "    @constraint(model, beta_abs .>= beta) #put the dot is like doing the loop over all j\n",
    "    @constraint(model, beta_abs .>= -beta)\n",
    "    \n",
    "    #Insert objective\n",
    "    @objective(model, Min, sum((y-X*beta).^2) + lambda*sum(beta_abs))\n",
    "    \n",
    "    # Optimize\n",
    "    optimize!(model)\n",
    "    \n",
    "    # Return estimated betas\n",
    "    return (value.(beta))\n",
    "    \n",
    "end"
   ]
  },
  {
   "cell_type": "code",
   "execution_count": 4,
   "metadata": {},
   "outputs": [
    {
     "data": {
      "text/plain": [
       "find_best_lambda (generic function with 1 method)"
      ]
     },
     "execution_count": 4,
     "metadata": {},
     "output_type": "execute_result"
    }
   ],
   "source": [
    "#CROSS VALIDATION: find best lambda \n",
    "function find_best_lambda(X,y,X_valid,y_valid)\n",
    "    lowest_mse=Inf\n",
    "    best_lambda=0\n",
    "    for lambda in [0.1,0.2,0.3,0.4,0.5,0.6,0.7,0.8,0.9]\n",
    "        beta_lasso=lasso(X, y, lambda)\n",
    "        mse_temp= mse(X_valid, y_valid*beta_lasso)\n",
    "        if mse_temp<lowest_mse\n",
    "            lowest_mse=mse_temp\n",
    "            best_lambda=lambda\n",
    "        end\n",
    "    end\n",
    "    return best_lambda\n",
    "end"
   ]
  },
  {
   "cell_type": "markdown",
   "metadata": {},
   "source": [
    "### SOLAR"
   ]
  },
  {
   "cell_type": "markdown",
   "metadata": {},
   "source": [
    "#### CV"
   ]
  },
  {
   "cell_type": "code",
   "execution_count": null,
   "metadata": {},
   "outputs": [],
   "source": [
    "#Not normalized\n",
    "lasso_beta = lasso(X_train_solar,y_train_solar, lambda)\n",
    "mse(y_train_solar, X_train_solar*lasso_beta)"
   ]
  },
  {
   "cell_type": "code",
   "execution_count": null,
   "metadata": {},
   "outputs": [],
   "source": []
  },
  {
   "cell_type": "code",
   "execution_count": 6,
   "metadata": {},
   "outputs": [],
   "source": [
    "preds = X_valid_solar*lasso_beta;"
   ]
  },
  {
   "cell_type": "code",
   "execution_count": null,
   "metadata": {},
   "outputs": [],
   "source": []
  }
 ],
 "metadata": {
  "kernelspec": {
   "display_name": "Julia 1.8.2",
   "language": "julia",
   "name": "julia-1.8"
  },
  "language_info": {
   "file_extension": ".jl",
   "mimetype": "application/julia",
   "name": "julia",
   "version": "1.8.2"
  },
  "orig_nbformat": 4,
  "vscode": {
   "interpreter": {
    "hash": "949777d72b0d2535278d3dc13498b2535136f6dfe0678499012e853ee9abcab1"
   }
  }
 },
 "nbformat": 4,
 "nbformat_minor": 2
}
