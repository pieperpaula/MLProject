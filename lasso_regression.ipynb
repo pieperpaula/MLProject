{
 "cells": [
  {
   "cell_type": "markdown",
   "metadata": {},
   "source": [
    "# LASSO"
   ]
  },
  {
   "cell_type": "code",
   "execution_count": 1,
   "metadata": {},
   "outputs": [],
   "source": [
    "using CSV, Tables, LinearAlgebra, Random, Gurobi, JuMP, Statistics, DataFrames, Metrics\n",
    "#read train and validation data and split it into X and y\n",
    "X_train_solar=Matrix(DataFrame(CSV.File(\"X_train_solar.csv\")))\n",
    "y_train_solar=Matrix(DataFrame(CSV.File(\"y_train_solar.csv\")))\n",
    "X_train_wind=Matrix(DataFrame(CSV.File(\"X_train_wind.csv\")))\n",
    "y_train_wind=Matrix(DataFrame(CSV.File(\"y_train_wind.csv\")))\n",
    "\n",
    "X_valid_solar=Matrix(DataFrame(CSV.File(\"X_valid_solar.csv\")))\n",
    "y_valid_solar=Matrix(DataFrame(CSV.File(\"y_valid_solar.csv\")))\n",
    "X_valid_wind=Matrix(DataFrame(CSV.File(\"X_valid_wind.csv\")))\n",
    "y_valid_wind=Matrix(DataFrame(CSV.File(\"y_valid_wind.csv\")));"
   ]
  },
  {
   "cell_type": "markdown",
   "metadata": {},
   "source": [
    "### NORMALIZE DATA\n",
    "We normalize the data with min max scaling. We apply normalization for the numerical features only and then we use alpha to balance between numerical and binary variables."
   ]
  },
  {
   "cell_type": "code",
   "execution_count": 2,
   "metadata": {},
   "outputs": [
    {
     "data": {
      "text/plain": [
       "min_max_scaling (generic function with 1 method)"
      ]
     },
     "execution_count": 2,
     "metadata": {},
     "output_type": "execute_result"
    }
   ],
   "source": [
    "function min_max_scaling(X, num_feature_indices)\n",
    "    for i in num_feature_indices\n",
    "        X[:, i] = (X[:, i] .- minimum(X[:, i])) ./ (maximum(X[:, i]) .- minimum(X[:, i]))\n",
    "    end\n",
    "    return X\n",
    "end"
   ]
  },
  {
   "cell_type": "markdown",
   "metadata": {},
   "source": [
    "#### SOLAR"
   ]
  },
  {
   "cell_type": "code",
   "execution_count": 3,
   "metadata": {},
   "outputs": [],
   "source": [
    "#scale SOLAR TRAIN only numerical\n",
    "X_num_solar=min_max_scaling(Matrix(X_train_solar), 1:15)\n",
    "\n",
    "# Binary features as they are\n",
    "X_bin_solar = X_train_solar[:,16:end]\n",
    "\n",
    "# Numerical vs Categorical features scaling\n",
    "alpha = 0.75\n",
    "X_num_solar = alpha*X_num_solar\n",
    "X_bin_solar = (1-alpha)*X_bin_solar;\n",
    "\n",
    "# Append data\n",
    "X_train_solar_norm = [X_num_solar X_bin_solar];"
   ]
  },
  {
   "cell_type": "code",
   "execution_count": 4,
   "metadata": {},
   "outputs": [],
   "source": [
    "#scale SOLAR VALID only numerical\n",
    "X_num_solar=min_max_scaling(Matrix(X_valid_solar), 1:15)\n",
    "\n",
    "# Binary features as they are\n",
    "X_bin_solar = X_valid_solar[:,16:end]\n",
    "\n",
    "# Numerical vs Categorical features scaling\n",
    "alpha = 0.75\n",
    "X_num_solar = alpha*X_num_solar\n",
    "X_bin_solar = (1-alpha)*X_bin_solar;\n",
    "\n",
    "# Append data\n",
    "X_valid_solar_norm = [X_num_solar X_bin_solar];"
   ]
  },
  {
   "cell_type": "code",
   "execution_count": 5,
   "metadata": {},
   "outputs": [],
   "source": [
    "#scale Y \n",
    "y_train_solar_norm = min_max_scaling(Matrix(y_train_solar), 1:1)\n",
    "y_valid_solar_norm = min_max_scaling(Matrix(y_valid_solar), 1:1);"
   ]
  },
  {
   "cell_type": "markdown",
   "metadata": {},
   "source": [
    "#### WIND"
   ]
  },
  {
   "cell_type": "code",
   "execution_count": 6,
   "metadata": {},
   "outputs": [],
   "source": [
    "X_num_wind=min_max_scaling(Matrix(X_train_wind), 1:15)\n",
    "\n",
    "# Binary features as they are\n",
    "X_bin_wind = X_train_wind[:,16:end]\n",
    "\n",
    "# Numerical vs Categorical features scaling\n",
    "alpha = 0.75\n",
    "X_num_wind = alpha*X_num_wind\n",
    "X_bin_wind = (1-alpha)*X_bin_wind;\n",
    "\n",
    "# Append data\n",
    "X_train_wind_norm = [X_num_wind X_bin_wind];"
   ]
  },
  {
   "cell_type": "code",
   "execution_count": 7,
   "metadata": {},
   "outputs": [],
   "source": [
    "X_num_wind=min_max_scaling(Matrix(X_valid_wind), 1:15)\n",
    "\n",
    "# Binary features as they are\n",
    "X_bin_wind = X_valid_wind[:,16:end]\n",
    "\n",
    "# Numerical vs Categorical features scaling\n",
    "alpha = 0.75\n",
    "X_num_wind = alpha*X_num_wind\n",
    "X_bin_wind = (1-alpha)*X_bin_wind;\n",
    "\n",
    "# Append data\n",
    "X_valid_wind_norm = [X_num_wind X_bin_wind];"
   ]
  },
  {
   "cell_type": "code",
   "execution_count": 8,
   "metadata": {},
   "outputs": [],
   "source": [
    "#scale Y \n",
    "y_train_wind_norm=min_max_scaling(Matrix(y_train_wind), 1:1)\n",
    "y_valid_wind_norm=min_max_scaling(Matrix(y_valid_wind), 1:1);"
   ]
  },
  {
   "cell_type": "markdown",
   "metadata": {},
   "source": [
    "## LASSO"
   ]
  },
  {
   "cell_type": "code",
   "execution_count": 9,
   "metadata": {},
   "outputs": [
    {
     "data": {
      "text/plain": [
       "lasso (generic function with 1 method)"
      ]
     },
     "execution_count": 9,
     "metadata": {},
     "output_type": "execute_result"
    }
   ],
   "source": [
    "function lasso(X,y,lambda)\n",
    "    \n",
    "    #Build model\n",
    "    model = Model(Gurobi.Optimizer)#we have defined the model, pass Gurobi optimizer into the model\n",
    "    set_optimizer_attribute(model,\"OutputFlag\",0)\n",
    "    \n",
    "    #Insert variables\n",
    "    n, p = size(X)\n",
    "    \n",
    "    @variable(model, beta[j=1:p])\n",
    "    @variable(model, beta_abs[j=1:p])    \n",
    "    #Insert constraints\n",
    "    @constraint(model, beta_abs .>= beta) #put the dot is like doing the loop over all j\n",
    "    @constraint(model, beta_abs .>= -beta)\n",
    "    \n",
    "    #Insert objective\n",
    "    @objective(model, Min, sum((y-X*beta).^2) + lambda*sum(beta_abs))\n",
    "    \n",
    "    # Optimize\n",
    "    optimize!(model)\n",
    "    \n",
    "    # Return estimated betas\n",
    "    return (value.(beta))\n",
    "    \n",
    "end"
   ]
  },
  {
   "cell_type": "code",
   "execution_count": 10,
   "metadata": {},
   "outputs": [
    {
     "data": {
      "text/plain": [
       "find_best_lambda (generic function with 1 method)"
      ]
     },
     "execution_count": 10,
     "metadata": {},
     "output_type": "execute_result"
    }
   ],
   "source": [
    "#CROSS VALIDATION: find best lambda \n",
    "function find_best_lambda(X,y,X_valid,y_valid)\n",
    "    lowest_mse=Inf\n",
    "    best_lambda=0\n",
    "    for lambda in [0.1,0.2,0.3,0.4,0.5,0.6,0.7,0.8,0.9]\n",
    "        beta_lasso=lasso(X, y, lambda)\n",
    "        mse_temp= mse(y_valid, X_valid*beta_lasso)\n",
    "        if mse_temp<lowest_mse\n",
    "            lowest_mse=mse_temp\n",
    "            best_lambda=lambda\n",
    "        end\n",
    "    end\n",
    "    return best_lambda\n",
    "end"
   ]
  },
  {
   "cell_type": "markdown",
   "metadata": {},
   "source": [
    "### SOLAR"
   ]
  },
  {
   "cell_type": "markdown",
   "metadata": {},
   "source": [
    "#### CV"
   ]
  },
  {
   "cell_type": "code",
   "execution_count": 11,
   "metadata": {},
   "outputs": [
    {
     "name": "stdout",
     "output_type": "stream",
     "text": [
      "Set parameter Username\n",
      "Academic license - for non-commercial use only - expires 2023-08-19\n",
      "Set parameter Username\n",
      "Academic license - for non-commercial use only - expires 2023-08-19\n",
      "Set parameter Username\n",
      "Academic license - for non-commercial use only - expires 2023-08-19\n",
      "Set parameter Username\n",
      "Academic license - for non-commercial use only - expires 2023-08-19\n",
      "Set parameter Username\n",
      "Academic license - for non-commercial use only - expires 2023-08-19\n",
      "Set parameter Username\n",
      "Academic license - for non-commercial use only - expires 2023-08-19\n",
      "Set parameter Username\n",
      "Academic license - for non-commercial use only - expires 2023-08-19\n",
      "Set parameter Username\n",
      "Academic license - for non-commercial use only - expires 2023-08-19\n",
      "Set parameter Username\n",
      "Academic license - for non-commercial use only - expires 2023-08-19\n"
     ]
    },
    {
     "data": {
      "text/plain": [
       "0.9"
      ]
     },
     "execution_count": 11,
     "metadata": {},
     "output_type": "execute_result"
    }
   ],
   "source": [
    "#Not normalized\n",
    "find_best_lambda(X_train_solar,y_train_solar, X_valid_solar, y_valid_solar)"
   ]
  },
  {
   "cell_type": "code",
   "execution_count": 12,
   "metadata": {},
   "outputs": [
    {
     "name": "stdout",
     "output_type": "stream",
     "text": [
      "Set parameter Username\n",
      "Academic license - for non-commercial use only - expires 2023-08-19\n",
      "Set parameter Username\n",
      "Academic license - for non-commercial use only - expires 2023-08-19\n",
      "Set parameter Username\n",
      "Academic license - for non-commercial use only - expires 2023-08-19\n",
      "Set parameter Username\n",
      "Academic license - for non-commercial use only - expires 2023-08-19\n",
      "Set parameter Username\n",
      "Academic license - for non-commercial use only - expires 2023-08-19\n",
      "Set parameter Username\n",
      "Academic license - for non-commercial use only - expires 2023-08-19\n",
      "Set parameter Username\n",
      "Academic license - for non-commercial use only - expires 2023-08-19\n",
      "Set parameter Username\n",
      "Academic license - for non-commercial use only - expires 2023-08-19\n",
      "Set parameter Username\n",
      "Academic license - for non-commercial use only - expires 2023-08-19\n"
     ]
    },
    {
     "data": {
      "text/plain": [
       "0.1"
      ]
     },
     "execution_count": 12,
     "metadata": {},
     "output_type": "execute_result"
    }
   ],
   "source": [
    "#X normalized\n",
    "find_best_lambda(X_train_solar_norm,y_train_solar, X_valid_solar_norm, y_valid_solar)"
   ]
  },
  {
   "cell_type": "code",
   "execution_count": 13,
   "metadata": {},
   "outputs": [
    {
     "name": "stdout",
     "output_type": "stream",
     "text": [
      "Set parameter Username\n",
      "Academic license - for non-commercial use only - expires 2023-08-19\n",
      "Set parameter Username\n",
      "Academic license - for non-commercial use only - expires 2023-08-19\n",
      "Set parameter Username\n",
      "Academic license - for non-commercial use only - expires 2023-08-19\n",
      "Set parameter Username\n",
      "Academic license - for non-commercial use only - expires 2023-08-19\n",
      "Set parameter Username\n",
      "Academic license - for non-commercial use only - expires 2023-08-19\n",
      "Set parameter Username\n",
      "Academic license - for non-commercial use only - expires 2023-08-19\n",
      "Set parameter Username\n",
      "Academic license - for non-commercial use only - expires 2023-08-19\n",
      "Set parameter Username\n",
      "Academic license - for non-commercial use only - expires 2023-08-19\n",
      "Set parameter Username\n",
      "Academic license - for non-commercial use only - expires 2023-08-19\n"
     ]
    },
    {
     "data": {
      "text/plain": [
       "0.1"
      ]
     },
     "execution_count": 13,
     "metadata": {},
     "output_type": "execute_result"
    }
   ],
   "source": [
    "#Not normalized\n",
    "find_best_lambda(X_train_solar_norm,y_train_solar_norm, X_valid_solar_norm, y_valid_solar_norm)"
   ]
  },
  {
   "cell_type": "markdown",
   "metadata": {},
   "source": [
    "#### EVALUATION "
   ]
  },
  {
   "cell_type": "code",
   "execution_count": 13,
   "metadata": {},
   "outputs": [
    {
     "name": "stdout",
     "output_type": "stream",
     "text": [
      "Set parameter Username\n",
      "Academic license - for non-commercial use only - expires 2023-08-18\n"
     ]
    }
   ],
   "source": [
    "#Not normalized\n",
    "beta_lasso=lasso(X_train_solar,y_train_solar, 0.9);"
   ]
  },
  {
   "cell_type": "code",
   "execution_count": 14,
   "metadata": {},
   "outputs": [
    {
     "name": "stdout",
     "output_type": "stream",
     "text": [
      "MSE: 9472.655407769904\n",
      "MAE: 78.9299646645766\n",
      "R2: 0.35395894537563455\n"
     ]
    }
   ],
   "source": [
    "println(\"MSE: \", mse(y_valid_solar, X_valid_solar*beta_lasso))\n",
    "println(\"MAE: \", mae(y_valid_solar, X_valid_solar*beta_lasso))\n",
    "println(\"R2: \", r2_score(y_valid_solar, X_valid_solar*beta_lasso))"
   ]
  },
  {
   "cell_type": "markdown",
   "metadata": {},
   "source": [
    "### Test Evaluation "
   ]
  },
  {
   "cell_type": "code",
   "execution_count": 15,
   "metadata": {},
   "outputs": [],
   "source": [
    "X_test_solar=Matrix(DataFrame(CSV.File(\"X_test_solar.csv\")))\n",
    "y_test_solar=Matrix(DataFrame(CSV.File(\"y_test_solar.csv\")));"
   ]
  },
  {
   "cell_type": "code",
   "execution_count": 16,
   "metadata": {},
   "outputs": [
    {
     "name": "stdout",
     "output_type": "stream",
     "text": [
      "MSE: 265742.13620059553\n",
      "MAE: 374.2676699339018\n",
      "R2: -13.631600566108197\n"
     ]
    }
   ],
   "source": [
    "println(\"MSE: \", mse(y_test_solar, X_test_solar*beta_lasso))\n",
    "println(\"MAE: \", mae(y_test_solar, X_test_solar*beta_lasso))\n",
    "println(\"R2: \", r2_score(y_test_solar, X_test_solar*beta_lasso))"
   ]
  },
  {
   "cell_type": "code",
   "execution_count": 19,
   "metadata": {},
   "outputs": [
    {
     "name": "stdout",
     "output_type": "stream",
     "text": [
      "Set parameter Username\n",
      "Academic license - for non-commercial use only - expires 2023-08-18\n"
     ]
    }
   ],
   "source": [
    "#X normalized\n",
    "beta_lasso=lasso(X_train_solar_norm,y_train_solar, 0.1);"
   ]
  },
  {
   "cell_type": "code",
   "execution_count": 20,
   "metadata": {},
   "outputs": [
    {
     "name": "stdout",
     "output_type": "stream",
     "text": [
      "MSE: 9665.677442833918\n",
      "MAE: 80.45169548608108\n",
      "R2: 0.3756043846968983\n"
     ]
    }
   ],
   "source": [
    "println(\"MSE: \", mse(y_valid_solar, X_valid_solar_norm*beta_lasso))\n",
    "println(\"MAE: \", mae(y_valid_solar, X_valid_solar_norm*beta_lasso))\n",
    "println(\"R2: \", r2_score(y_valid_solar, X_valid_solar_norm*beta_lasso))"
   ]
  },
  {
   "cell_type": "code",
   "execution_count": 21,
   "metadata": {},
   "outputs": [],
   "source": [
    "#scale SOLAR TEST only numerical\n",
    "X_test_num_solar=min_max_scaling(Matrix(X_test_solar), 1:15)\n",
    "\n",
    "# Binary features as they are\n",
    "X_test_bin_solar = X_test_solar[:,16:end]\n",
    "\n",
    "# Numerical vs Categorical features scaling\n",
    "alpha = 0.75\n",
    "X_test_num_solar = alpha*X_test_num_solar\n",
    "X_test_bin_solar = (1-alpha)*X_test_bin_solar;\n",
    "\n",
    "# Append data\n",
    "X_test_solar_norm = [X_test_num_solar X_test_bin_solar];"
   ]
  },
  {
   "cell_type": "code",
   "execution_count": 22,
   "metadata": {},
   "outputs": [
    {
     "name": "stdout",
     "output_type": "stream",
     "text": [
      "MSE: 260020.4497584387\n",
      "MAE: 367.5065623207428\n",
      "R2: -20.001909034715098\n"
     ]
    }
   ],
   "source": [
    "println(\"MSE: \", mse(y_test_solar, X_test_solar_norm*beta_lasso))\n",
    "println(\"MAE: \", mae(y_test_solar, X_test_solar_norm*beta_lasso))\n",
    "println(\"R2: \", r2_score(y_test_solar, X_test_solar_norm*beta_lasso))"
   ]
  },
  {
   "cell_type": "code",
   "execution_count": 18,
   "metadata": {},
   "outputs": [
    {
     "name": "stdout",
     "output_type": "stream",
     "text": [
      "Set parameter Username\n",
      "Academic license - for non-commercial use only - expires 2023-08-19\n"
     ]
    }
   ],
   "source": [
    "#X,y normalized\n",
    "beta_lasso=lasso(X_train_solar_norm,y_train_solar_norm, 0.1);"
   ]
  },
  {
   "cell_type": "code",
   "execution_count": 19,
   "metadata": {},
   "outputs": [
    {
     "name": "stdout",
     "output_type": "stream",
     "text": [
      "MSE: 0.050119619394356364\n",
      "MAE: 0.18146498772482905\n",
      "R2: -43.337798875564424\n"
     ]
    }
   ],
   "source": [
    "println(\"MSE: \", mse(y_valid_solar_norm, X_valid_solar_norm*beta_lasso))\n",
    "println(\"MAE: \", mae(y_valid_solar_norm, X_valid_solar_norm*beta_lasso))\n",
    "println(\"R2: \", r2_score(y_valid_solar_norm, X_valid_solar_norm*beta_lasso))"
   ]
  },
  {
   "cell_type": "markdown",
   "metadata": {},
   "source": [
    "### WIND"
   ]
  },
  {
   "cell_type": "markdown",
   "metadata": {},
   "source": [
    "#### CV"
   ]
  },
  {
   "cell_type": "code",
   "execution_count": 20,
   "metadata": {},
   "outputs": [
    {
     "name": "stdout",
     "output_type": "stream",
     "text": [
      "Set parameter Username\n",
      "Academic license - for non-commercial use only - expires 2023-08-19\n",
      "Set parameter Username\n",
      "Academic license - for non-commercial use only - expires 2023-08-19\n",
      "Set parameter Username\n",
      "Academic license - for non-commercial use only - expires 2023-08-19\n",
      "Set parameter Username\n",
      "Academic license - for non-commercial use only - expires 2023-08-19\n",
      "Set parameter Username\n",
      "Academic license - for non-commercial use only - expires 2023-08-19\n",
      "Set parameter Username\n",
      "Academic license - for non-commercial use only - expires 2023-08-19\n",
      "Set parameter Username\n",
      "Academic license - for non-commercial use only - expires 2023-08-19\n",
      "Set parameter Username\n",
      "Academic license - for non-commercial use only - expires 2023-08-19\n",
      "Set parameter Username\n",
      "Academic license - for non-commercial use only - expires 2023-08-19\n"
     ]
    },
    {
     "data": {
      "text/plain": [
       "0.9"
      ]
     },
     "execution_count": 20,
     "metadata": {},
     "output_type": "execute_result"
    }
   ],
   "source": [
    "#Not normalized\n",
    "find_best_lambda(X_train_wind,y_train_wind, X_valid_wind, y_valid_wind)"
   ]
  },
  {
   "cell_type": "code",
   "execution_count": 21,
   "metadata": {},
   "outputs": [
    {
     "name": "stdout",
     "output_type": "stream",
     "text": [
      "Set parameter Username\n",
      "Academic license - for non-commercial use only - expires 2023-08-19\n",
      "Set parameter Username\n",
      "Academic license - for non-commercial use only - expires 2023-08-19\n",
      "Set parameter Username\n",
      "Academic license - for non-commercial use only - expires 2023-08-19\n",
      "Set parameter Username\n",
      "Academic license - for non-commercial use only - expires 2023-08-19\n",
      "Set parameter Username\n",
      "Academic license - for non-commercial use only - expires 2023-08-19\n",
      "Set parameter Username\n",
      "Academic license - for non-commercial use only - expires 2023-08-19\n",
      "Set parameter Username\n",
      "Academic license - for non-commercial use only - expires 2023-08-19\n",
      "Set parameter Username\n",
      "Academic license - for non-commercial use only - expires 2023-08-19\n",
      "Set parameter Username\n",
      "Academic license - for non-commercial use only - expires 2023-08-19\n"
     ]
    },
    {
     "data": {
      "text/plain": [
       "0.1"
      ]
     },
     "execution_count": 21,
     "metadata": {},
     "output_type": "execute_result"
    }
   ],
   "source": [
    "#X normalized\n",
    "find_best_lambda(X_train_wind_norm,y_train_wind, X_valid_wind_norm, y_valid_wind)"
   ]
  },
  {
   "cell_type": "code",
   "execution_count": 22,
   "metadata": {},
   "outputs": [
    {
     "name": "stdout",
     "output_type": "stream",
     "text": [
      "Set parameter Username\n",
      "Academic license - for non-commercial use only - expires 2023-08-19\n",
      "Set parameter Username\n",
      "Academic license - for non-commercial use only - expires 2023-08-19\n",
      "Set parameter Username\n",
      "Academic license - for non-commercial use only - expires 2023-08-19\n",
      "Set parameter Username\n",
      "Academic license - for non-commercial use only - expires 2023-08-19\n",
      "Set parameter Username\n",
      "Academic license - for non-commercial use only - expires 2023-08-19\n",
      "Set parameter Username\n",
      "Academic license - for non-commercial use only - expires 2023-08-19\n",
      "Set parameter Username\n",
      "Academic license - for non-commercial use only - expires 2023-08-19\n",
      "Set parameter Username\n",
      "Academic license - for non-commercial use only - expires 2023-08-19\n",
      "Set parameter Username\n",
      "Academic license - for non-commercial use only - expires 2023-08-19\n"
     ]
    },
    {
     "data": {
      "text/plain": [
       "0.1"
      ]
     },
     "execution_count": 22,
     "metadata": {},
     "output_type": "execute_result"
    }
   ],
   "source": [
    "#Not normalized\n",
    "find_best_lambda(X_train_wind_norm,y_train_wind_norm, X_valid_wind_norm, y_valid_wind_norm)"
   ]
  },
  {
   "cell_type": "markdown",
   "metadata": {},
   "source": [
    "#### EVALUATION "
   ]
  },
  {
   "cell_type": "code",
   "execution_count": 23,
   "metadata": {},
   "outputs": [
    {
     "name": "stdout",
     "output_type": "stream",
     "text": [
      "Set parameter Username\n",
      "Academic license - for non-commercial use only - expires 2023-08-18\n"
     ]
    }
   ],
   "source": [
    "#Not normalized\n",
    "beta_lasso=lasso(X_train_wind,y_train_wind, 0.9);"
   ]
  },
  {
   "cell_type": "code",
   "execution_count": 25,
   "metadata": {},
   "outputs": [
    {
     "name": "stdout",
     "output_type": "stream",
     "text": [
      "MSE: 1.3286934600135155e7\n",
      "MAE: 2630.9089982001233\n",
      "R2: -0.3187260316225953\n"
     ]
    }
   ],
   "source": [
    "println(\"MSE: \", mse(y_valid_wind, X_valid_wind*beta_lasso))\n",
    "println(\"MAE: \", mae(y_valid_wind, X_valid_wind*beta_lasso))\n",
    "println(\"R2: \", r2_score(y_valid_wind, X_valid_wind*beta_lasso))"
   ]
  },
  {
   "cell_type": "markdown",
   "metadata": {},
   "source": [
    "### Test Evaluation"
   ]
  },
  {
   "cell_type": "code",
   "execution_count": 27,
   "metadata": {},
   "outputs": [],
   "source": [
    "X_test_wind=Matrix(DataFrame(CSV.File(\"X_test_wind.csv\")))\n",
    "y_test_wind=Matrix(DataFrame(CSV.File(\"y_test_wind.csv\")));"
   ]
  },
  {
   "cell_type": "code",
   "execution_count": 28,
   "metadata": {},
   "outputs": [
    {
     "name": "stdout",
     "output_type": "stream",
     "text": [
      "MSE: 1.5379191371068548e7\n",
      "MAE: 3033.255336044892\n",
      "R2: -0.08107911385694666\n"
     ]
    }
   ],
   "source": [
    "println(\"MSE: \", mse(y_test_wind, X_test_wind*beta_lasso))\n",
    "println(\"MAE: \", mae(y_test_wind, X_test_wind*beta_lasso))\n",
    "println(\"R2: \", r2_score(y_test_wind, X_test_wind*beta_lasso))"
   ]
  },
  {
   "cell_type": "code",
   "execution_count": 31,
   "metadata": {},
   "outputs": [
    {
     "name": "stdout",
     "output_type": "stream",
     "text": [
      "Set parameter Username\n",
      "Academic license - for non-commercial use only - expires 2023-08-18\n"
     ]
    }
   ],
   "source": [
    "#X normalized\n",
    "beta_lasso=lasso(X_train_wind_norm,y_train_wind, 0.1);"
   ]
  },
  {
   "cell_type": "code",
   "execution_count": 26,
   "metadata": {},
   "outputs": [
    {
     "name": "stdout",
     "output_type": "stream",
     "text": [
      "MSE: 1.3295536354377085e8\n",
      "MAE: 9143.913566975465\n",
      "R2: -1.4381435392020148\n"
     ]
    }
   ],
   "source": [
    "println(\"MSE: \", mse(y_valid_wind, X_valid_wind_norm*beta_lasso))\n",
    "println(\"MAE: \", mae(y_valid_wind, X_valid_wind_norm*beta_lasso))\n",
    "println(\"R2: \", r2_score(y_valid_wind, X_valid_wind_norm*beta_lasso))"
   ]
  },
  {
   "cell_type": "markdown",
   "metadata": {},
   "source": [
    "### Test Evaluation"
   ]
  },
  {
   "cell_type": "code",
   "execution_count": 29,
   "metadata": {},
   "outputs": [],
   "source": [
    "#scale SOLAR TRAIN only numerical\n",
    "X_test_num_wind=min_max_scaling(Matrix(X_test_wind), 1:15)\n",
    "\n",
    "# Binary features as they are\n",
    "X_test_bin_wind = X_test_wind[:,16:end]\n",
    "\n",
    "# Numerical vs Categorical features scaling\n",
    "alpha = 0.75\n",
    "X_test_num_wind = alpha*X_test_num_wind\n",
    "X_test_bin_wind = (1-alpha)*X_test_bin_wind;\n",
    "\n",
    "# Append data\n",
    "X_test_wind_norm = [X_test_num_wind X_test_bin_wind];"
   ]
  },
  {
   "cell_type": "code",
   "execution_count": 34,
   "metadata": {},
   "outputs": [
    {
     "name": "stdout",
     "output_type": "stream",
     "text": [
      "MSE: 1.1719328007854867e8\n",
      "MAE: 9266.731888031982\n",
      "R2: -0.7605837604250911\n"
     ]
    }
   ],
   "source": [
    "println(\"MSE: \", mse(y_test_wind, X_test_wind_norm*beta_lasso))\n",
    "println(\"MAE: \", mae(y_test_wind, X_test_wind_norm*beta_lasso))\n",
    "println(\"R2: \", r2_score(y_test_wind, X_test_wind_norm*beta_lasso))"
   ]
  },
  {
   "cell_type": "code",
   "execution_count": 27,
   "metadata": {},
   "outputs": [
    {
     "name": "stdout",
     "output_type": "stream",
     "text": [
      "Set parameter Username\n",
      "Academic license - for non-commercial use only - expires 2023-08-19\n"
     ]
    }
   ],
   "source": [
    "#X,y normalized\n",
    "beta_lasso=lasso(X_train_wind_norm,y_train_wind_norm, 0.1);"
   ]
  },
  {
   "cell_type": "code",
   "execution_count": 28,
   "metadata": {},
   "outputs": [
    {
     "name": "stdout",
     "output_type": "stream",
     "text": [
      "MSE: 0.08995528338662923\n",
      "MAE: 0.22082103384027854\n",
      "R2: -0.2798452192046488\n"
     ]
    }
   ],
   "source": [
    "println(\"MSE: \", mse(y_valid_wind_norm, X_valid_wind_norm*beta_lasso))\n",
    "println(\"MAE: \", mae(y_valid_wind_norm, X_valid_wind_norm*beta_lasso))\n",
    "println(\"R2: \", r2_score(y_valid_wind_norm, X_valid_wind_norm*beta_lasso))"
   ]
  }
 ],
 "metadata": {
  "kernelspec": {
   "display_name": "Julia 1.8.2",
   "language": "julia",
   "name": "julia-1.8"
  },
  "language_info": {
   "file_extension": ".jl",
   "mimetype": "application/julia",
   "name": "julia",
   "version": "1.8.3"
  },
  "orig_nbformat": 4,
  "vscode": {
   "interpreter": {
    "hash": "949777d72b0d2535278d3dc13498b2535136f6dfe0678499012e853ee9abcab1"
   }
  }
 },
 "nbformat": 4,
 "nbformat_minor": 2
}
